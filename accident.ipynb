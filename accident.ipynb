{
 "cells": [
  {
   "attachments": {},
   "cell_type": "markdown",
   "metadata": {},
   "source": [
    "# Accident on Expressway"
   ]
  },
  {
   "attachments": {},
   "cell_type": "markdown",
   "metadata": {},
   "source": [
    "- องค์กร : การทางพิเศษแห่งประเทศไทย\n",
    "- ที่มา : https://data.go.th/dataset/vachara\n"
   ]
  },
  {
   "attachments": {},
   "cell_type": "markdown",
   "metadata": {},
   "source": [
    "จัดทำโดย"
   ]
  },
  {
   "attachments": {},
   "cell_type": "markdown",
   "metadata": {},
   "source": [
    "- กรกนก กลิ่นสุมาลี 6341005826\n",
    "- นพกฤษฏิ์ ภูริสุริยโรจน์ 6341109426\n"
   ]
  },
  {
   "cell_type": "code",
   "execution_count": 48,
   "metadata": {},
   "outputs": [],
   "source": [
    "#import the necessary Libraries\n",
    "\n",
    "import pandas as pd\n",
    "import matplotlib.pyplot as plt\n",
    "import numpy as np\n",
    "\n",
    "plt.rcParams['font.family'] = 'Tahoma'"
   ]
  },
  {
   "cell_type": "code",
   "execution_count": 49,
   "metadata": {},
   "outputs": [],
   "source": [
    "df1 = pd.read_csv('https://github.com/Pooote/Business_Intelligent/raw/main/accident_2561.csv')\n",
    "df2 = pd.read_csv('https://github.com/Pooote/Business_Intelligent/raw/main/accident_2562.csv')\n",
    "df3 = pd.read_csv('https://github.com/Pooote/Business_Intelligent/raw/main/accident_2563.csv')\n",
    "df4 = pd.read_csv('https://github.com/Pooote/Business_Intelligent/raw/main/accident_2564.csv')\n",
    "df5 = pd.read_csv('https://github.com/Pooote/Business_Intelligent/raw/main/accident_2565.csv')"
   ]
  },
  {
   "cell_type": "code",
   "execution_count": 50,
   "metadata": {},
   "outputs": [
    {
     "data": {
      "text/html": [
       "<div>\n",
       "<style scoped>\n",
       "    .dataframe tbody tr th:only-of-type {\n",
       "        vertical-align: middle;\n",
       "    }\n",
       "\n",
       "    .dataframe tbody tr th {\n",
       "        vertical-align: top;\n",
       "    }\n",
       "\n",
       "    .dataframe thead th {\n",
       "        text-align: right;\n",
       "    }\n",
       "</style>\n",
       "<table border=\"1\" class=\"dataframe\">\n",
       "  <thead>\n",
       "    <tr style=\"text-align: right;\">\n",
       "      <th></th>\n",
       "      <th>accident_date</th>\n",
       "      <th>accident_time</th>\n",
       "      <th>expw_step</th>\n",
       "      <th>weather_state</th>\n",
       "      <th>injur_man</th>\n",
       "      <th>injur_femel</th>\n",
       "      <th>dead_man</th>\n",
       "      <th>dead_femel</th>\n",
       "      <th>cause</th>\n",
       "    </tr>\n",
       "  </thead>\n",
       "  <tbody>\n",
       "    <tr>\n",
       "      <th>859</th>\n",
       "      <td>2018-03-20</td>\n",
       "      <td>11:43:43</td>\n",
       "      <td>ศรีรัช</td>\n",
       "      <td>ปกติ</td>\n",
       "      <td>0</td>\n",
       "      <td>0</td>\n",
       "      <td>0</td>\n",
       "      <td>0</td>\n",
       "      <td>เปลี่ยนช่องทางกระทันหัน</td>\n",
       "    </tr>\n",
       "    <tr>\n",
       "      <th>69</th>\n",
       "      <td>2017-10-15</td>\n",
       "      <td>10:27:27</td>\n",
       "      <td>เฉลิมมหานคร</td>\n",
       "      <td>ปกติ</td>\n",
       "      <td>0</td>\n",
       "      <td>0</td>\n",
       "      <td>0</td>\n",
       "      <td>0</td>\n",
       "      <td>ประมาท</td>\n",
       "    </tr>\n",
       "    <tr>\n",
       "      <th>432</th>\n",
       "      <td>2018-02-17</td>\n",
       "      <td>04:52:52</td>\n",
       "      <td>เฉลิมมหานคร</td>\n",
       "      <td>ปกติ</td>\n",
       "      <td>1</td>\n",
       "      <td>0</td>\n",
       "      <td>0</td>\n",
       "      <td>0</td>\n",
       "      <td>ขับรถเร็วเกินไป</td>\n",
       "    </tr>\n",
       "    <tr>\n",
       "      <th>943</th>\n",
       "      <td>2017-11-03</td>\n",
       "      <td>14:45:45</td>\n",
       "      <td>ฉลองรัช</td>\n",
       "      <td>ปกติ</td>\n",
       "      <td>1</td>\n",
       "      <td>0</td>\n",
       "      <td>0</td>\n",
       "      <td>0</td>\n",
       "      <td>เปลี่ยนช่องทางกระทันหัน</td>\n",
       "    </tr>\n",
       "    <tr>\n",
       "      <th>873</th>\n",
       "      <td>2018-05-14</td>\n",
       "      <td>02:11:11</td>\n",
       "      <td>ศรีรัช</td>\n",
       "      <td>ปกติ</td>\n",
       "      <td>0</td>\n",
       "      <td>0</td>\n",
       "      <td>0</td>\n",
       "      <td>0</td>\n",
       "      <td>เปลี่ยนช่องทางกระทันหัน</td>\n",
       "    </tr>\n",
       "  </tbody>\n",
       "</table>\n",
       "</div>"
      ],
      "text/plain": [
       "    accident_date accident_time    expw_step weather_state  injur_man  \\\n",
       "859    2018-03-20      11:43:43       ศรีรัช          ปกติ          0   \n",
       "69     2017-10-15      10:27:27  เฉลิมมหานคร          ปกติ          0   \n",
       "432    2018-02-17      04:52:52  เฉลิมมหานคร          ปกติ          1   \n",
       "943    2017-11-03      14:45:45      ฉลองรัช          ปกติ          1   \n",
       "873    2018-05-14      02:11:11       ศรีรัช          ปกติ          0   \n",
       "\n",
       "     injur_femel  dead_man  dead_femel                    cause  \n",
       "859            0         0           0  เปลี่ยนช่องทางกระทันหัน  \n",
       "69             0         0           0                   ประมาท  \n",
       "432            0         0           0          ขับรถเร็วเกินไป  \n",
       "943            0         0           0  เปลี่ยนช่องทางกระทันหัน  \n",
       "873            0         0           0  เปลี่ยนช่องทางกระทันหัน  "
      ]
     },
     "execution_count": 50,
     "metadata": {},
     "output_type": "execute_result"
    }
   ],
   "source": [
    "df1.sample(5)"
   ]
  },
  {
   "cell_type": "code",
   "execution_count": 51,
   "metadata": {},
   "outputs": [
    {
     "data": {
      "text/html": [
       "<div>\n",
       "<style scoped>\n",
       "    .dataframe tbody tr th:only-of-type {\n",
       "        vertical-align: middle;\n",
       "    }\n",
       "\n",
       "    .dataframe tbody tr th {\n",
       "        vertical-align: top;\n",
       "    }\n",
       "\n",
       "    .dataframe thead th {\n",
       "        text-align: right;\n",
       "    }\n",
       "</style>\n",
       "<table border=\"1\" class=\"dataframe\">\n",
       "  <thead>\n",
       "    <tr style=\"text-align: right;\">\n",
       "      <th></th>\n",
       "      <th>accident_date</th>\n",
       "      <th>accident_time</th>\n",
       "      <th>step</th>\n",
       "      <th>ad_state</th>\n",
       "      <th>acman_rec</th>\n",
       "      <th>acfem_rec</th>\n",
       "      <th>deadman_rec</th>\n",
       "      <th>deadfem_rec</th>\n",
       "      <th>cause_type</th>\n",
       "    </tr>\n",
       "  </thead>\n",
       "  <tbody>\n",
       "    <tr>\n",
       "      <th>543</th>\n",
       "      <td>2020-12-18 04:27:27</td>\n",
       "      <td>04:27:27</td>\n",
       "      <td>บางพลี-สุขสวัสดิ์</td>\n",
       "      <td>ปกติ</td>\n",
       "      <td>0</td>\n",
       "      <td>0</td>\n",
       "      <td>0</td>\n",
       "      <td>0</td>\n",
       "      <td>เบรคขัดข้อง</td>\n",
       "    </tr>\n",
       "    <tr>\n",
       "      <th>542</th>\n",
       "      <td>2020-12-18 16:36:36</td>\n",
       "      <td>16:36:36</td>\n",
       "      <td>ศรีรัช</td>\n",
       "      <td>ปกติ</td>\n",
       "      <td>0</td>\n",
       "      <td>1</td>\n",
       "      <td>0</td>\n",
       "      <td>0</td>\n",
       "      <td>เปลี่ยนช่องทางกระทันหัน</td>\n",
       "    </tr>\n",
       "    <tr>\n",
       "      <th>713</th>\n",
       "      <td>2020-10-11 16:45:45</td>\n",
       "      <td>16:45:45</td>\n",
       "      <td>ศรีรัช</td>\n",
       "      <td>ปกติ</td>\n",
       "      <td>0</td>\n",
       "      <td>0</td>\n",
       "      <td>0</td>\n",
       "      <td>0</td>\n",
       "      <td>หลับใน</td>\n",
       "    </tr>\n",
       "    <tr>\n",
       "      <th>491</th>\n",
       "      <td>2021-01-25 19:27:27</td>\n",
       "      <td>19:27:27</td>\n",
       "      <td>บางพลี-สุขสวัสดิ์</td>\n",
       "      <td>ปกติ</td>\n",
       "      <td>1</td>\n",
       "      <td>0</td>\n",
       "      <td>0</td>\n",
       "      <td>0</td>\n",
       "      <td>ขับรถเร็วเกินไป</td>\n",
       "    </tr>\n",
       "    <tr>\n",
       "      <th>750</th>\n",
       "      <td>2020-10-01 16:40:40</td>\n",
       "      <td>16:40:40</td>\n",
       "      <td>ฉลองรัช</td>\n",
       "      <td>ปกติ</td>\n",
       "      <td>0</td>\n",
       "      <td>0</td>\n",
       "      <td>0</td>\n",
       "      <td>0</td>\n",
       "      <td>เปลี่ยนช่องทางกระทันหัน</td>\n",
       "    </tr>\n",
       "  </tbody>\n",
       "</table>\n",
       "</div>"
      ],
      "text/plain": [
       "           accident_date accident_time               step ad_state  acman_rec  \\\n",
       "543  2020-12-18 04:27:27      04:27:27  บางพลี-สุขสวัสดิ์     ปกติ          0   \n",
       "542  2020-12-18 16:36:36      16:36:36             ศรีรัช     ปกติ          0   \n",
       "713  2020-10-11 16:45:45      16:45:45             ศรีรัช     ปกติ          0   \n",
       "491  2021-01-25 19:27:27      19:27:27  บางพลี-สุขสวัสดิ์     ปกติ          1   \n",
       "750  2020-10-01 16:40:40      16:40:40            ฉลองรัช     ปกติ          0   \n",
       "\n",
       "     acfem_rec  deadman_rec  deadfem_rec               cause_type  \n",
       "543          0            0            0              เบรคขัดข้อง  \n",
       "542          1            0            0  เปลี่ยนช่องทางกระทันหัน  \n",
       "713          0            0            0                   หลับใน  \n",
       "491          0            0            0          ขับรถเร็วเกินไป  \n",
       "750          0            0            0  เปลี่ยนช่องทางกระทันหัน  "
      ]
     },
     "execution_count": 51,
     "metadata": {},
     "output_type": "execute_result"
    }
   ],
   "source": [
    "df4.sample(5)"
   ]
  },
  {
   "attachments": {},
   "cell_type": "markdown",
   "metadata": {},
   "source": [
    "---\n",
    "## Clean data\n",
    "- เปลี่ยนชื่อ column ให้เป็นไปในทิศทางเดียวกัน\n",
    "- จัดข้อมูลในแต่ละ column ให้เป็นไปในรูปแบบเดียวกัน / มีประเภทของข้อมูลที่เหมือนกัน\n",
    "- รวม dataframe ในแต่ละปีให้เป็น dataframe เดียวกัน\n",
    "- จัดการข้อมูลใน column สาเหตุของการเกิดอุบัติเหตุ"
   ]
  },
  {
   "cell_type": "code",
   "execution_count": 52,
   "metadata": {},
   "outputs": [
    {
     "data": {
      "text/plain": [
       "Index(['accident_date', 'accident_time', 'expw_step', 'weather_state',\n",
       "       'injur_man', 'injur_femel', 'dead_man', 'dead_femel', 'cause'],\n",
       "      dtype='object')"
      ]
     },
     "execution_count": 52,
     "metadata": {},
     "output_type": "execute_result"
    }
   ],
   "source": [
    "df5.columns"
   ]
  },
  {
   "cell_type": "code",
   "execution_count": 53,
   "metadata": {},
   "outputs": [],
   "source": [
    "correct_column = ['accident_date', 'accident_time', 'express_way', 'weather_status',\n",
    "                    'injury_male', 'injury_female', 'dead_male', 'dead_female', 'cause']"
   ]
  },
  {
   "cell_type": "code",
   "execution_count": 54,
   "metadata": {},
   "outputs": [],
   "source": [
    "dataframe_list = [df1, df2, df3, df4, df5]\n",
    "for dataframe in dataframe_list:\n",
    "    dataframe.columns = correct_column"
   ]
  },
  {
   "cell_type": "code",
   "execution_count": 55,
   "metadata": {},
   "outputs": [],
   "source": [
    "#dataframe accident_date มีข้อมูลทั้ง เวลา และ วัน\n",
    "df4['accident_date'] = df4['accident_date'].str[:10]"
   ]
  },
  {
   "cell_type": "code",
   "execution_count": 56,
   "metadata": {},
   "outputs": [
    {
     "data": {
      "text/html": [
       "<div>\n",
       "<style scoped>\n",
       "    .dataframe tbody tr th:only-of-type {\n",
       "        vertical-align: middle;\n",
       "    }\n",
       "\n",
       "    .dataframe tbody tr th {\n",
       "        vertical-align: top;\n",
       "    }\n",
       "\n",
       "    .dataframe thead th {\n",
       "        text-align: right;\n",
       "    }\n",
       "</style>\n",
       "<table border=\"1\" class=\"dataframe\">\n",
       "  <thead>\n",
       "    <tr style=\"text-align: right;\">\n",
       "      <th></th>\n",
       "      <th>accident_date</th>\n",
       "      <th>accident_time</th>\n",
       "      <th>express_way</th>\n",
       "      <th>weather_status</th>\n",
       "      <th>injury_male</th>\n",
       "      <th>injury_female</th>\n",
       "      <th>dead_male</th>\n",
       "      <th>dead_female</th>\n",
       "      <th>cause</th>\n",
       "    </tr>\n",
       "  </thead>\n",
       "  <tbody>\n",
       "    <tr>\n",
       "      <th>545</th>\n",
       "      <td>2018-12-08</td>\n",
       "      <td>21:33:33</td>\n",
       "      <td>ฉลองรัช</td>\n",
       "      <td>ปกติ</td>\n",
       "      <td>0</td>\n",
       "      <td>0</td>\n",
       "      <td>0</td>\n",
       "      <td>0</td>\n",
       "      <td>สาเหตุจากสภาพรถ/ถนน</td>\n",
       "    </tr>\n",
       "    <tr>\n",
       "      <th>483</th>\n",
       "      <td>2021-01-28</td>\n",
       "      <td>23:08:08</td>\n",
       "      <td>เฉลิมมหานคร</td>\n",
       "      <td>ปกติ</td>\n",
       "      <td>0</td>\n",
       "      <td>0</td>\n",
       "      <td>0</td>\n",
       "      <td>0</td>\n",
       "      <td>เปลี่ยนช่องทางกระทันหัน</td>\n",
       "    </tr>\n",
       "    <tr>\n",
       "      <th>540</th>\n",
       "      <td>2019-07-31</td>\n",
       "      <td>18:19:19</td>\n",
       "      <td>ฉลองรัช</td>\n",
       "      <td>ปกติ</td>\n",
       "      <td>0</td>\n",
       "      <td>0</td>\n",
       "      <td>0</td>\n",
       "      <td>0</td>\n",
       "      <td>สาเหตุจากสภาพรถ/ถนน</td>\n",
       "    </tr>\n",
       "    <tr>\n",
       "      <th>639</th>\n",
       "      <td>2019-12-09</td>\n",
       "      <td>06:51:51</td>\n",
       "      <td>ศรีรัช</td>\n",
       "      <td>ปกติ</td>\n",
       "      <td>0</td>\n",
       "      <td>0</td>\n",
       "      <td>0</td>\n",
       "      <td>0</td>\n",
       "      <td>เปลี่ยนช่องทางกระทันหัน</td>\n",
       "    </tr>\n",
       "    <tr>\n",
       "      <th>376</th>\n",
       "      <td>2021-03-19</td>\n",
       "      <td>16:32:32</td>\n",
       "      <td>ศรีรัช</td>\n",
       "      <td>ปกติ</td>\n",
       "      <td>0</td>\n",
       "      <td>0</td>\n",
       "      <td>0</td>\n",
       "      <td>0</td>\n",
       "      <td>เปลี่ยนช่องทางกระทันหัน</td>\n",
       "    </tr>\n",
       "  </tbody>\n",
       "</table>\n",
       "</div>"
      ],
      "text/plain": [
       "    accident_date accident_time  express_way weather_status  injury_male  \\\n",
       "545    2018-12-08      21:33:33      ฉลองรัช           ปกติ            0   \n",
       "483    2021-01-28      23:08:08  เฉลิมมหานคร           ปกติ            0   \n",
       "540    2019-07-31      18:19:19      ฉลองรัช           ปกติ            0   \n",
       "639    2019-12-09      06:51:51       ศรีรัช           ปกติ            0   \n",
       "376    2021-03-19      16:32:32       ศรีรัช           ปกติ            0   \n",
       "\n",
       "     injury_female  dead_male  dead_female                           cause  \n",
       "545              0          0            0             สาเหตุจากสภาพรถ/ถนน  \n",
       "483              0          0            0         เปลี่ยนช่องทางกระทันหัน  \n",
       "540              0          0            0             สาเหตุจากสภาพรถ/ถนน  \n",
       "639              0          0            0  เปลี่ยนช่องทางกระทันหัน         \n",
       "376              0          0            0         เปลี่ยนช่องทางกระทันหัน  "
      ]
     },
     "execution_count": 56,
     "metadata": {},
     "output_type": "execute_result"
    }
   ],
   "source": [
    "df = pd.concat([df1,df2,df3,df4,df5])\n",
    "df.sample(5)"
   ]
  },
  {
   "cell_type": "code",
   "execution_count": 57,
   "metadata": {},
   "outputs": [
    {
     "data": {
      "text/html": [
       "<div>\n",
       "<style scoped>\n",
       "    .dataframe tbody tr th:only-of-type {\n",
       "        vertical-align: middle;\n",
       "    }\n",
       "\n",
       "    .dataframe tbody tr th {\n",
       "        vertical-align: top;\n",
       "    }\n",
       "\n",
       "    .dataframe thead th {\n",
       "        text-align: right;\n",
       "    }\n",
       "</style>\n",
       "<table border=\"1\" class=\"dataframe\">\n",
       "  <thead>\n",
       "    <tr style=\"text-align: right;\">\n",
       "      <th></th>\n",
       "      <th>accident_timestamp</th>\n",
       "      <th>express_way</th>\n",
       "      <th>weather_status</th>\n",
       "      <th>injury_male</th>\n",
       "      <th>injury_female</th>\n",
       "      <th>dead_male</th>\n",
       "      <th>dead_female</th>\n",
       "      <th>cause</th>\n",
       "    </tr>\n",
       "  </thead>\n",
       "  <tbody>\n",
       "    <tr>\n",
       "      <th>641</th>\n",
       "      <td>2019-05-12 21:37:37</td>\n",
       "      <td>ทางหลวงพิเศษหมายเลข 37</td>\n",
       "      <td>ฝนตก</td>\n",
       "      <td>1</td>\n",
       "      <td>1</td>\n",
       "      <td>0</td>\n",
       "      <td>0</td>\n",
       "      <td>สาเหตุจากสภาพรถ/ถนน</td>\n",
       "    </tr>\n",
       "    <tr>\n",
       "      <th>52</th>\n",
       "      <td>2021-09-13 07:58:58</td>\n",
       "      <td>ฉลองรัช</td>\n",
       "      <td>ปกติ</td>\n",
       "      <td>0</td>\n",
       "      <td>0</td>\n",
       "      <td>0</td>\n",
       "      <td>0</td>\n",
       "      <td>เปลี่ยนช่องทางกระทันหัน</td>\n",
       "    </tr>\n",
       "    <tr>\n",
       "      <th>760</th>\n",
       "      <td>2021-11-09 15:51:51</td>\n",
       "      <td>ทางหลวงพิเศษหมายเลข 37</td>\n",
       "      <td>ปกติ</td>\n",
       "      <td>2</td>\n",
       "      <td>1</td>\n",
       "      <td>0</td>\n",
       "      <td>0</td>\n",
       "      <td>เปลี่ยนช่องทางกระทันหัน</td>\n",
       "    </tr>\n",
       "    <tr>\n",
       "      <th>576</th>\n",
       "      <td>2018-06-09 21:07:07</td>\n",
       "      <td>บางพลี-สุขสวัสดิ์</td>\n",
       "      <td>ปกติ</td>\n",
       "      <td>0</td>\n",
       "      <td>0</td>\n",
       "      <td>0</td>\n",
       "      <td>0</td>\n",
       "      <td>ขับรถเร็วเกินไป</td>\n",
       "    </tr>\n",
       "    <tr>\n",
       "      <th>941</th>\n",
       "      <td>2018-09-11 05:56:56</td>\n",
       "      <td>ฉลองรัช</td>\n",
       "      <td>ปกติ</td>\n",
       "      <td>0</td>\n",
       "      <td>1</td>\n",
       "      <td>0</td>\n",
       "      <td>0</td>\n",
       "      <td>เปลี่ยนช่องทางกระทันหัน</td>\n",
       "    </tr>\n",
       "  </tbody>\n",
       "</table>\n",
       "</div>"
      ],
      "text/plain": [
       "     accident_timestamp             express_way weather_status  injury_male  \\\n",
       "641 2019-05-12 21:37:37  ทางหลวงพิเศษหมายเลข 37           ฝนตก            1   \n",
       "52  2021-09-13 07:58:58                 ฉลองรัช           ปกติ            0   \n",
       "760 2021-11-09 15:51:51  ทางหลวงพิเศษหมายเลข 37           ปกติ            2   \n",
       "576 2018-06-09 21:07:07       บางพลี-สุขสวัสดิ์           ปกติ            0   \n",
       "941 2018-09-11 05:56:56                 ฉลองรัช           ปกติ            0   \n",
       "\n",
       "     injury_female  dead_male  dead_female                    cause  \n",
       "641              1          0            0      สาเหตุจากสภาพรถ/ถนน  \n",
       "52               0          0            0  เปลี่ยนช่องทางกระทันหัน  \n",
       "760              1          0            0  เปลี่ยนช่องทางกระทันหัน  \n",
       "576              0          0            0          ขับรถเร็วเกินไป  \n",
       "941              1          0            0  เปลี่ยนช่องทางกระทันหัน  "
      ]
     },
     "execution_count": 57,
     "metadata": {},
     "output_type": "execute_result"
    }
   ],
   "source": [
    "df['accident_date'] = pd.to_datetime(df['accident_date'].astype(str) + ' ' +df['accident_time'].astype(str))\n",
    "del df['accident_time']\n",
    "df.rename(columns = {'accident_date':'accident_timestamp'}, inplace = True)\n",
    "\n",
    "df.sample(5)"
   ]
  },
  {
   "cell_type": "code",
   "execution_count": 58,
   "metadata": {},
   "outputs": [
    {
     "name": "stdout",
     "output_type": "stream",
     "text": [
      "<class 'pandas.core.frame.DataFrame'>\n",
      "Int64Index: 4374 entries, 0 to 861\n",
      "Data columns (total 8 columns):\n",
      " #   Column              Non-Null Count  Dtype         \n",
      "---  ------              --------------  -----         \n",
      " 0   accident_timestamp  4374 non-null   datetime64[ns]\n",
      " 1   express_way         4374 non-null   object        \n",
      " 2   weather_status      4374 non-null   object        \n",
      " 3   injury_male         4374 non-null   int64         \n",
      " 4   injury_female       4374 non-null   int64         \n",
      " 5   dead_male           4374 non-null   int64         \n",
      " 6   dead_female         4374 non-null   int64         \n",
      " 7   cause               4374 non-null   object        \n",
      "dtypes: datetime64[ns](1), int64(4), object(3)\n",
      "memory usage: 307.5+ KB\n"
     ]
    }
   ],
   "source": [
    "df.info()"
   ]
  },
  {
   "cell_type": "code",
   "execution_count": 59,
   "metadata": {},
   "outputs": [
    {
     "data": {
      "text/plain": [
       "array(['เบรคกระทันหัน', 'เข้าผิดช่องทาง', 'ก้มเก็บเงิน',\n",
       "       'ขับชิดขอบทางมาก', 'ถอยเบียดแท่นปูน', 'ขับชิดมากเกินไป',\n",
       "       'เบรคกระทันหหัน', 'ขับถอยหลัง', 'ไม่ทันสังเกตุ', 'ก้มหยิบของ',\n",
       "       'ถอยหลังเข้าตู้ผิด', 'ขับชิดขวามากเกินไป', 'หยิบของในรถ',\n",
       "       'ผู้ขับขี่ก้มหยิบของ', 'ขับรถช้าลง', 'เชี่ยวชน',\n",
       "       'บรรทุกหนักเกินไป', 'รอตรวจสอบ', 'ความร้อนขึ้นแล้วฟืนขับต่อ',\n",
       "       'จอดเลนฉุกเฉิน', 'เสียหลักพลิกคว่ำ', 'กระบะจอดช่วงทางโค้ง',\n",
       "       'ขับขี่ย้อนศร', 'กระระยะผิดก่อนเจ้าตู้2',\n",
       "       'ก้มเก็บสิ่งของในห้องโดยสาร', '.', 'ชนท้าย', 'ยางแตก',\n",
       "       'รอการตรวจสอบ', 'มึนเมา', 'ไม่ทราบสาเหตุ', 'ผู้ขับขี่หมดสติ',\n",
       "       'รถมีขนาดใหญ่เกินไป', 'เบรคไม่ทัน', 'วิ่งช่องฉุกเฉิน',\n",
       "       'กระบะจอดตรวจสอบสิ่งของ', 'ไฟฟ้าลัดวงจร', 'เพลิงไหม้',\n",
       "       'เบรคกะทันหัน', 'เสียหลัก', 'ขับรถประมาท', 'บรรทุกยื่นล้ำ',\n",
       "       'ขับรถโดยประมาท', 'ล้อหลุดไปชนรถคู่กรณี',\n",
       "       'ขับรถเร็วในช่องทางฉุกเฉิน', 'เฉียวชนแล้วหลบหนี', 'เบรกติดล้อ',\n",
       "       'ประมาท ขับรถเร็ว', 'ไม่มีอีซี่พาส', 'กำลังจะไปช่วย ว.40 ขึ้นบรมฯ',\n",
       "       'รถเบรกไม่อยู่', 'วิ่งเลนฉุกเฉิน', 'เดินรถไหล่ทางซ้าย',\n",
       "       'ล้อหลุดเสียหลักพลิกคว่ำ', 'ไม่ระมัดระวัง', 'ประมาท', 'หลับใน',\n",
       "       'โรคประจำตัว', 'ขับรถเร็วเกินไป', 'สาเหตุจากสภาพรถ/ถนน',\n",
       "       'ฝ่าฝืนสัญญาณ/ป้ายจราจร', 'เปลี่ยนช่องทางกระทันหัน', 'ก้มเก็บของ',\n",
       "       'ก้มหาเงินค่าผ่านทาง', '-', 'ขับชิดขอบทางซ้าย', 'เหม่อลอย',\n",
       "       'ขับกระชั้นชิด', 'ขับชิดคันหน้ามากเกินไป', 'ขับขี่กะชั้นชิดเกินไป',\n",
       "       'ย้อนทางเข้าด่าน', 'มีเก้าอี้ตกหล่น', 'รองเท้าเบ้าไปขัดขาเบรค',\n",
       "       'ขับรถย้อนทางมาจากทางลงสุขุมวิท', 'มีรถจอดเสียช่องกลาง ชนท้าย',\n",
       "       'จอดในช่องเดินรถซ้าย', 'ก้มเก็บโทรศัพท์', 'เบรคแตก', 'มองไม่เห็น',\n",
       "       'ก้มเก็บสิ่งของ', 'กลับรถไม่พ้น', 'ขับรถในระยะกระชั้นชิด',\n",
       "       'ขับในระยะกระชั้นชิด', 'ใช้ความเร็วในการเข้าโค้ง', 'ย้อนออกด่าน',\n",
       "       'เบรกกระทันหัน', 'ขับรถในระยะกระชันชิด', 'เบรกติด',\n",
       "       'ชะลอดูว.40ฝั่งตรงข้าม', 'เข้าผิดตู้', 'โดนรถบรรทุกเบียด',\n",
       "       'หางพ่วงเรือเจ๊ตสกรีหลุด', 'หลงทางแล้วถอยชน',\n",
       "       'ขับชิดขอบทางขวามากเกินไป', 'ไม่ได้ปิดประตูตู้บรรทุก', 'เบรกชำรุด',\n",
       "       'เบรคแล้วเสียหลัก', 'ขับปาดกันไปมา                 ',\n",
       "       'เบครกระทันหัน                 ', 'ขับรถย้อนทาง                  ',\n",
       "       'เข้าผิดช่ิอง                  ', 'แก๊สกระป๋องเล็กรั่ว           ',\n",
       "       'ก้มหยิบเงิน                   ', 'เข้าผิดช่องทาง                ',\n",
       "       'ขับชิดขวามากเกินไป            ', 'เข้าช่องเก็บค่าผ่านทางผิด     ',\n",
       "       'ก้มหยิบของ                    ', '-                             ',\n",
       "       'เหยียบสิ้งของตกหล่นแผ่นเหล็ก  ', 'มีกรงสุนัขตกหล่น              ',\n",
       "       'ก้มเก็บเงิน                   ', 'เสียหลัก                      ',\n",
       "       'เบรคติด                       ', 'รอการตรวจสอบ                  ',\n",
       "       'ขับเร็วเฉี่ยวชนท้าย           ', 'ระบบไฮโดรลิคขัดข้อง           ',\n",
       "       'ไฟฟ้ารัดวงจรในห้องเครื่อง     ', 'ขับรถด้วยความประมาท           ',\n",
       "       'เปิดประตูมารับบัตรแล้วกระแทกตู', 'ยากแตก                        ',\n",
       "       'เครนฟาดเสาไฟเสียหาย           ', 'บรรทุกหนัก                    ',\n",
       "       'ไฟฟ้าลัดวงจรบริเวณห้องเครื่อง ', 'ตร.เรียกรถจอดออกหนังสือคำสั่ง ',\n",
       "       'ไม่ทันมอง                     ', 'ขับรถชนป้าย ช่องทางEasypass   ',\n",
       "       'ก้มเก็บของ                    ', 'ประมาท ก้มหยิบของ             ',\n",
       "       'รอตรวจสอบ                     ', 'กะระยะเข้าช่องทางไม่ถูก       ',\n",
       "       'ขับรถในระยะกระชั้นชิด         ', 'โดนชนท้าย                     ',\n",
       "       'ถอยหลังรถไปชน                 ', 'ใช้ความเร็วเข้าโค้ง           ',\n",
       "       'เมาจอดนอนกีดขวาง              ', 'ถอยหลังลงจากต่างระดับ         ',\n",
       "       'ขับรถในระยะกระชันชิด          ', 'ยางล้อหลังขวาระเบิด           ',\n",
       "       'หลงทาง                        ', 'ขับขี่ย้อนเส้นทาง             ',\n",
       "       'ขับรถช้าลง                    ', 'พวงมาลัยล๊อค                  ',\n",
       "       'เฉี่ยวชนก้างปลา               ', 'คันที่3หยุดรถไม่ทัน           ',\n",
       "       'ไม่ได้ล็อคตู้                 ', 'ประมาท                        ',\n",
       "       'เปิดประตูรถ                   ', 'รถบรรทุกตัดหน้า               ',\n",
       "       'มีกลุ่มควันขึ้นมากหลังรถ      ', 'รถไหล                         ',\n",
       "       'หยุดรถไม่ทัน                  ', 'ก้มดูโทรศัพย์                 ',\n",
       "       'ขับเร็วเสียหลัก               ', 'ปีกนกซ้ายชำรุด                ',\n",
       "       'บรรทุกยื่นล้ำ                 ', 'มึนเมา                        ',\n",
       "       'หลับใน                        ', 'โรคประจำตัว                   ',\n",
       "       'เบรคกระทันหัน                 ', 'ขับรถเร็วเกินไป               ',\n",
       "       'สาเหตุจากสภาพรถ/ถนน           ', 'ฝ่าฝืนสัญญาณ/ป้ายจราจร        ',\n",
       "       'เปลี่ยนช่องทางกระทันหัน       ', 'ขับรถกระชั้นชิด', 'เบรคขัดข้อง',\n",
       "       'ล้อล็อค', 'บรรทุกเกิน/ของตกหล่น', 'เบลคกระทันหัน',\n",
       "       'ขึ้นเนินมองไม่เห็น', 'สภาพแวดล้อม', 'ยางหลังซ้ายแตก',\n",
       "       'ยางหลังแตก2ข้าง', 'เบรครถกระทันหัน', 'ล้อหลุด',\n",
       "       'อุปกรณ์ล้อยางชำรุด', 'เบรกไม่อยู่', 'ขับรถระยะกระชั้นชิด',\n",
       "       'ถนนเปียกลื่น', 'เข้าช่องทางผิด', 'ระบบไฟฟ้าขัดข้อง',\n",
       "       'น๊อตล้อหลังขวาขาด', 'ลงมาเก็บสิ่งของตกหล่นเลนขวา',\n",
       "       'กระบะบรรทุกสูง', 'ไม่ดึงเบรคมือทำให้รถไหลตกท่อ', 'ขับย้อนศร',\n",
       "       'บรรทุกกว้างยื่นล้ำ', 'ช่วงล่างชำรุด', 'หลงทาง', 'เบรกกะทันหัน',\n",
       "       'ขับนถกระชั้นชิด', 'ล้อหลังขวาหลุด', 'ถูกรถร่วมทางเบียด',\n",
       "       'บรรทุกสูงเกิน', 'กระบะจอดเสียเลนกลาง', 'ขับขี่ในระยะกระชั้นชิด',\n",
       "       'ไม่ทราบ', 'เล่นโทรศัพท์', 'ถอยหลังชิดด้านซ้ายมากเกินไป',\n",
       "       'ประมาทขาดความระวัง', 'ขับรถมองข้างทาง',\n",
       "       'เข้าผิดเลนถอยชนไฟส่องล้อเสียหา', 'นับเงินทอนค่าผ่านทาง',\n",
       "       'รถบรรทุกหนัก', 'มีควันขึ้นที่ห้องเครื่อง', 'ยางหลังขวาแตก',\n",
       "       'จยย.ย้อนศร', 'ใช้โทรศัพท์ขณะขับรถ', 'บรรทุกยื่นล้ำตัวรถ',\n",
       "       'บรรทุกสิ่งของยื้นล้ำ', 'ชนท้ายตามลำดับ', 'ถอยหลังชนไม้กั้น',\n",
       "       'พวงมาลัยล็อค', 'พ่วงหลุด', 'ก้มหยิบโทรศัพท์',\n",
       "       'ขับชิดซ้ายมากเกินไป', 'เบรคไม่อยู่รถบรรทุกหนัก',\n",
       "       'มีสิ่งของขัดเบรคทำให้เกิดว40', 'เหยียบเบรคกระทันหัน', 'พลัดหลง',\n",
       "       'กระจกแตก', 'ใช้ความเร็วเข้าโค้ง', 'ละสายตาจากการขับขี่',\n",
       "       'นั่งบุคคลMazdaเบรกกะทันหัน', 'ยางหน้าขวาแตก', 'สันนิษฐาน หลับใน',\n",
       "       'ถอยหลังชิดขอบทางขวามากเกินไป', 'ถอยหลังจอด', 'รถยนต์ขัดข้อง',\n",
       "       'ละสายตา', 'ยางแตกเสียหลักชนขอบทาง', 'รถบรรทุก6ล้อ เข้าผิดเวลา',\n",
       "       'คล้ายมีอาการมึนเมา', 'ขับขี่กระชั้นชิด', 'ขับรถเร็ว',\n",
       "       'ข้ับรถเร็ว', 'กระบะเบรคกะทันหัน', 'นั่งสาธารณะขับเลยทางลงถอยหลัง',\n",
       "       'เปลี่ยนช่องทางกะทันหัน', 'บรรทุกหนัก',\n",
       "       'เบรครถกระทันหันแล้วพลิ๊กคว่ำ', 'เปิดประตูชำระค่าผ่านทาง',\n",
       "       'ยางระเบิด', 'ขับรถถอยหลัง', 'ขับรถชิดซ้ายมากไป',\n",
       "       'ยางหลงขวาระเบิด', 'ควบคุมรถไม่ได้', 'เบรคกระทันหันเ',\n",
       "       'เบรกแล้วเสียหลักพลิกคว่ำ', 'เครื่องยนต์ขัดข้อง', 'เบรคไม่อยู่',\n",
       "       'เสียหลักหมุนชนขอบทาง', 'นั่งบุลคลอีซูซุก้มเก็บของ',\n",
       "       'รถนั่งฮอนด้าขับย้อนทางลงพัฒ2', 'ขับรถคล่อมเลน', 'เบรกกระชั้นชิด',\n",
       "       'ยางแตกล้อหลัง', 'ผู้ขับขี่นั่งบุคคลก้มดูโทรศัพท',\n",
       "       'นั่งบุคคลIsuzuเบรคไม่ทัน', 'บรรทุกรถ Atvเกิดไฟฟ้าลัดวงจร',\n",
       "       'ขับรถกระชิด', 'เบรกกะทันหันรถเสียการทรงตัว', 'เพลาข้างด้านขวาขาด',\n",
       "       'ก้มเก็บของในรถ', 'เลรคกะทันหัน', 'เข้าช่องเก็บค่าผ่านผิด',\n",
       "       'กระชั้นชิดเบรกไม่ทัน', 'กระบะToyotaทำสิ่งของตกหล่น',\n",
       "       'ขับรถกะชันชิด', 'ฝนตกถนนเปียกลื่น',\n",
       "       'นั่งบุคคลตัดหน้ารถบรรทุก10ล้อ', 'ไม่ดึงเบรคมือ', 'เบรคกระชั้นชิด',\n",
       "       'ขับรถกระชันชิด', 'เปลี่ยนช่องทางเบรกกะทันหัน', 'เบครกระทันหัน',\n",
       "       'สลักตัวยึดหลุด', 'ไม่ชะลอความเร็ว'], dtype=object)"
      ]
     },
     "execution_count": 59,
     "metadata": {},
     "output_type": "execute_result"
    }
   ],
   "source": [
    "df['cause'].unique()"
   ]
  },
  {
   "cell_type": "code",
   "execution_count": 60,
   "metadata": {},
   "outputs": [
    {
     "data": {
      "text/plain": [
       "277"
      ]
     },
     "execution_count": 60,
     "metadata": {},
     "output_type": "execute_result"
    }
   ],
   "source": [
    "len(df['cause'].unique())"
   ]
  },
  {
   "cell_type": "code",
   "execution_count": 61,
   "metadata": {},
   "outputs": [],
   "source": [
    "df['cause'] = df['cause'].str.strip()"
   ]
  },
  {
   "cell_type": "code",
   "execution_count": 62,
   "metadata": {},
   "outputs": [],
   "source": [
    "df.loc[df['cause'].str.contains('เร็ว'), 'cause'] = 'ขับรถเร็วเกินกำหนด'\n",
    "\n",
    "df.loc[df['cause'].str.contains('ก้มดู|เล่น'), 'cause'] = 'ใช้โทรศัพท์ขณะขับรถ'\n",
    "\n",
    "df.loc[df['cause'].str.contains('ก้ม|เก็บสิ่งของ|หยิบของในรถ'), 'cause'] = 'ก้มเก็บสิ่งของ'\n",
    "\n",
    "# รถ\n",
    "df.loc[df['cause'].str.contains('ยาง|ขัดข้อง|ล้อหลุด|แตก|ชำรุด|หลุด|ไฟฟ้า|ขาด|เบรกติด|เบรคติด|เบรคไม่อยู่|เบรกไม่อยู่|พวงมาลัย|ขัด|ร้อน'), 'cause'] = 'สาเหตุจากสภาพรถ/ถนน'\n",
    "\n",
    "# ถนน\n",
    "df.loc[df['cause'].str.contains('เปียกลื่น'), 'cause'] = 'สาเหตุจากสภาพรถ/ถนน'\n",
    "\n",
    "df.loc[df['cause'].str.contains('ประมาท|เหม่อลอย|ไม่ระมัดระวัง'), 'cause'] = 'ขับรถโดยประมาท'\n",
    "\n",
    "df.loc[df['cause'].str.contains('ย้อน'), 'cause'] = 'ขับรถย้อนศร'\n",
    "\n",
    "df.loc[df['cause'].str.contains('บรรทุก|ตก'), 'cause'] = 'บรรทุกเกิน/ของตกหล่น'\n",
    "\n",
    "df.loc[df['cause'].str.contains('ชั้นชิด|ชันชิด|ขับรถกระชิด'), 'cause'] = 'ขับรถกระชั้นชิด'\n",
    "\n",
    "df.loc[df['cause'].str.contains('เปลี่ยนช่องทางกระทันหัน'), 'cause'] = 'เปลี่ยนช่องทางกะทันหัน'\n",
    "\n",
    "df.loc[df['cause'].str.contains('ขับชิด|ไหล่ทาง|ขับรถชิด'), 'cause'] = 'ขับชิดขอบทางมากเกินไป'\n",
    "\n",
    "df.loc[df['cause'].str.contains('ไหล'), 'cause'] = 'รถไหล'\n",
    "\n",
    "df.loc[df['cause'].str.contains('เมา'), 'cause'] = 'มึนเมา'\n",
    "\n",
    "df.loc[df['cause'].str.contains('หลับใน'), 'cause'] = 'หลับใน'\n",
    "\n",
    "df.loc[df['cause'].str.contains('ถอย'), 'cause'] = 'ถอยหลังชนสิ่งกีดขวาง'\n",
    "\n",
    "df.loc[df['cause'].str.contains('เสียหลัก|รถเสียการทรงตัว'), 'cause'] = 'เสียหลัก'\n",
    "\n",
    "df.loc[df['cause'].str.contains('หลง'), 'cause'] = 'หลงทาง'\n",
    "\n",
    "df.loc[df['cause'].str.contains('เบรคกระทันหัน|เบรกกระทันหัน|เบรครถกระทันหัน|เบครกระทันหัน|เบรคกระทันหหัน|เบรกกะทันหัน|เบลกกะทันหัน|เลรคกะทันหัน|เบลคกระทันหัน|เบรคกะทันหัน'), 'cause'] = 'เบรคกะทันหัน'\n",
    "\n",
    "df.loc[df['cause'].str.contains('เบรคไม่ทัน|เบรกไม่ทัน|หยุดรถไม่ทัน'), 'cause'] = 'เบรคไม่ทัน'\n",
    "\n",
    "df.loc[df['cause'].str.contains('ไม่ทราบ|รอการตรวจสอบ|รอตรวจสอบ|\\.|\\-'), 'cause'] = 'ไม่ทราบสาเหตุ'\n",
    "\n",
    "df.loc[df['cause'].str.contains('จอด'), 'cause'] = 'จอดรถขวางการจราจร'\n",
    "\n",
    "df.loc[df['cause'].str.contains('สายตา|มอง|สังเกต'), 'cause'] = 'ละสายตาจากการขับขี่'\n",
    "\n",
    "df.loc[df['cause'].str.contains('เปิดประตู'), 'cause'] = 'เปิดประตูชนสิ่งกีดขวาง'\n",
    "\n",
    "df.loc[df['cause'].str.contains('เชียวชน|เชี่ยวชน|เฉี่ยวชน|เฉียวชน|ขับรถชน|ระยะ|กลับรถไม่พ้น'), 'cause'] = 'ขับรถเฉี่ยวชนสิ่งกีดขวาง/รถ'\n",
    "\n",
    "df.loc[df['cause'].str.contains('ชนท้าย'), 'cause'] = 'โดนรถชนท้าย'\n",
    "\n",
    "df.loc[df['cause'].str.contains('เข้า|วิ่งช่อง|วิ่งเลน'), 'cause'] = 'ขับรถผิดช่องทาง'\n"
   ]
  },
  {
   "cell_type": "code",
   "execution_count": 63,
   "metadata": {},
   "outputs": [
    {
     "data": {
      "text/plain": [
       "array(['เบรคกะทันหัน', 'ขับรถผิดช่องทาง', 'ก้มเก็บสิ่งของ',\n",
       "       'ขับชิดขอบทางมากเกินไป', 'ถอยหลังชนสิ่งกีดขวาง',\n",
       "       'ละสายตาจากการขับขี่', 'ขับรถช้าลง', 'ขับรถเฉี่ยวชนสิ่งกีดขวาง/รถ',\n",
       "       'บรรทุกเกิน/ของตกหล่น', 'ไม่ทราบสาเหตุ', 'สาเหตุจากสภาพรถ/ถนน',\n",
       "       'จอดรถขวางการจราจร', 'เสียหลัก', 'ขับรถย้อนศร', 'โดนรถชนท้าย',\n",
       "       'มึนเมา', 'ผู้ขับขี่หมดสติ', 'รถมีขนาดใหญ่เกินไป', 'เบรคไม่ทัน',\n",
       "       'เพลิงไหม้', 'ขับรถโดยประมาท', 'ขับรถเร็วเกินกำหนด',\n",
       "       'ไม่มีอีซี่พาส', 'หลับใน', 'โรคประจำตัว', 'ฝ่าฝืนสัญญาณ/ป้ายจราจร',\n",
       "       'เปลี่ยนช่องทางกะทันหัน', 'ขับรถกระชั้นชิด', 'ขับปาดกันไปมา',\n",
       "       'แก๊สกระป๋องเล็กรั่ว', 'เปิดประตูชนสิ่งกีดขวาง',\n",
       "       'เครนฟาดเสาไฟเสียหาย', 'หลงทาง', 'ไม่ได้ล็อคตู้',\n",
       "       'มีกลุ่มควันขึ้นมากหลังรถ', 'รถไหล', 'ใช้โทรศัพท์ขณะขับรถ',\n",
       "       'ล้อล็อค', 'สภาพแวดล้อม', 'ถูกรถร่วมทางเบียด',\n",
       "       'นับเงินทอนค่าผ่านทาง', 'มีควันขึ้นที่ห้องเครื่อง',\n",
       "       'ควบคุมรถไม่ได้', 'ขับรถคล่อมเลน', 'ไม่ดึงเบรคมือ'], dtype=object)"
      ]
     },
     "execution_count": 63,
     "metadata": {},
     "output_type": "execute_result"
    }
   ],
   "source": [
    "df['cause'].unique()"
   ]
  },
  {
   "cell_type": "code",
   "execution_count": 64,
   "metadata": {},
   "outputs": [
    {
     "data": {
      "text/plain": [
       "45"
      ]
     },
     "execution_count": 64,
     "metadata": {},
     "output_type": "execute_result"
    }
   ],
   "source": [
    "len(df['cause'].unique())"
   ]
  },
  {
   "cell_type": "code",
   "execution_count": 69,
   "metadata": {},
   "outputs": [],
   "source": [
    "df.to_excel(\"cleaned.xlsx\")"
   ]
  },
  {
   "attachments": {},
   "cell_type": "markdown",
   "metadata": {},
   "source": [
    "---\n",
    "# EDA - Exploratory Data Analysis"
   ]
  },
  {
   "cell_type": "code",
   "execution_count": 65,
   "metadata": {},
   "outputs": [],
   "source": [
    "# trend 4 ปี ว่าแนวโน้มเป็นยังไง\n",
    "# เจ็บและตาย ในแต่ละ วัน\n",
    "# ท้อป 5 สาเหตุ\n",
    "# 2 สาเหตหลัก ในแต่ละทางด่วน\n",
    "\n",
    "# ไม่มีที่หลบข้างทาง ถ้าเกิดอุบัติเหตุ ก็ขึ้นไปไม่ได้/ วุ่ยวาย รถขับเร็วจอดยาก\n",
    "# อุบัตืเหตที่เกิดขึ้นบนทางด่วนพิเสษ มีจน เท่าไหร่ในแต่ละปี จะพบว่าจำนวนอถุบัติเหตุนั้นมีแน้วโน้มที่ลดลงทุกปี"
   ]
  },
  {
   "cell_type": "code",
   "execution_count": 66,
   "metadata": {},
   "outputs": [
    {
     "data": {
      "text/plain": [
       "<AxesSubplot: title={'center': 'Number of accident occurred in 4 Years'}>"
      ]
     },
     "execution_count": 66,
     "metadata": {},
     "output_type": "execute_result"
    },
    {
     "data": {
      "image/png": "[encoded data removed]",
      "text/plain": [
       "<Figure size 432x288 with 1 Axes>"
      ]
     },
     "metadata": {
      "needs_background": "light"
     },
     "output_type": "display_data"
    }
   ],
   "source": [
    "accident_each_year = df[~df['accident_timestamp'].dt.year.isin([2017,2022]) ]\n",
    "accident_each_year['accident_timestamp'].dt.year.value_counts().plot(kind='bar',title='Number of accident occurred in 4 Years')"
   ]
  },
  {
   "attachments": {},
   "cell_type": "markdown",
   "metadata": {},
   "source": [
    "จากกราฟ จะพบว่า แนวโน้มอุบัติเหตุที่เกิดขึ้นในแต่ละปีนั้น \n",
    "- มีจำนวนการเกิดอุบัติเหตุที่ลดลงอย่างต่อเนื่อง ตั้งแต่ปี 2018 - 2021 \n",
    "- ทำให้สามารถอนุมานได้ว่า ในปี 2022 จะมีแนวโน้มการเกิดอุบัติเหตุบนทางด่วนลดลง ซึ่งเป็นไปในทิศทางที่ดีขึ้น\n",
    "\n",
    "---"
   ]
  },
  {
   "cell_type": "code",
   "execution_count": 67,
   "metadata": {},
   "outputs": [
    {
     "ename": "KeyError",
     "evalue": "\"Columns not found: 'dead_man', 'injur_man', 'injur_femel', 'dead_femel'\"",
     "output_type": "error",
     "traceback": [
      "\u001b[1;31m---------------------------------------------------------------------------\u001b[0m",
      "\u001b[1;31mKeyError\u001b[0m                                  Traceback (most recent call last)",
      "\u001b[1;32mc:\\Poote\\ML\\Me\\Project\\accident.ipynb Cell 26\u001b[0m in \u001b[0;36m<cell line: 2>\u001b[1;34m()\u001b[0m\n\u001b[0;32m      <a href='vscode-notebook-cell:/c%3A/Poote/ML/Me/Project/accident.ipynb#X32sZmlsZQ%3D%3D?line=0'>1</a>\u001b[0m \u001b[39m# prepare data\u001b[39;00m\n\u001b[1;32m----> <a href='vscode-notebook-cell:/c%3A/Poote/ML/Me/Project/accident.ipynb#X32sZmlsZQ%3D%3D?line=1'>2</a>\u001b[0m accident_occurred \u001b[39m=\u001b[39m df\u001b[39m.\u001b[39;49mgroupby([df[\u001b[39m'\u001b[39;49m\u001b[39maccident_timestamp\u001b[39;49m\u001b[39m'\u001b[39;49m]\u001b[39m.\u001b[39;49mdt\u001b[39m.\u001b[39;49myear])[[\u001b[39m'\u001b[39;49m\u001b[39minjur_man\u001b[39;49m\u001b[39m'\u001b[39;49m,\u001b[39m'\u001b[39;49m\u001b[39minjur_femel\u001b[39;49m\u001b[39m'\u001b[39;49m,\u001b[39m'\u001b[39;49m\u001b[39mdead_man\u001b[39;49m\u001b[39m'\u001b[39;49m,\u001b[39m'\u001b[39;49m\u001b[39mdead_femel\u001b[39;49m\u001b[39m'\u001b[39;49m]]\u001b[39m.\u001b[39msum()\n\u001b[0;32m      <a href='vscode-notebook-cell:/c%3A/Poote/ML/Me/Project/accident.ipynb#X32sZmlsZQ%3D%3D?line=2'>3</a>\u001b[0m accident_occurred\u001b[39m.\u001b[39mreset_index(inplace \u001b[39m=\u001b[39m \u001b[39mTrue\u001b[39;00m)\n\u001b[0;32m      <a href='vscode-notebook-cell:/c%3A/Poote/ML/Me/Project/accident.ipynb#X32sZmlsZQ%3D%3D?line=4'>5</a>\u001b[0m \u001b[39m# plot graph\u001b[39;00m\n",
      "File \u001b[1;32mc:\\Users\\Acer\\miniconda3\\lib\\site-packages\\pandas\\core\\groupby\\generic.py:1415\u001b[0m, in \u001b[0;36mDataFrameGroupBy.__getitem__\u001b[1;34m(self, key)\u001b[0m\n\u001b[0;32m   1406\u001b[0m \u001b[39mif\u001b[39;00m \u001b[39misinstance\u001b[39m(key, \u001b[39mtuple\u001b[39m) \u001b[39mand\u001b[39;00m \u001b[39mlen\u001b[39m(key) \u001b[39m>\u001b[39m \u001b[39m1\u001b[39m:\n\u001b[0;32m   1407\u001b[0m     \u001b[39m# if len == 1, then it becomes a SeriesGroupBy and this is actually\u001b[39;00m\n\u001b[0;32m   1408\u001b[0m     \u001b[39m# valid syntax, so don't raise warning\u001b[39;00m\n\u001b[0;32m   1409\u001b[0m     warnings\u001b[39m.\u001b[39mwarn(\n\u001b[0;32m   1410\u001b[0m         \u001b[39m\"\u001b[39m\u001b[39mIndexing with multiple keys (implicitly converted to a tuple \u001b[39m\u001b[39m\"\u001b[39m\n\u001b[0;32m   1411\u001b[0m         \u001b[39m\"\u001b[39m\u001b[39mof keys) will be deprecated, use a list instead.\u001b[39m\u001b[39m\"\u001b[39m,\n\u001b[0;32m   1412\u001b[0m         \u001b[39mFutureWarning\u001b[39;00m,\n\u001b[0;32m   1413\u001b[0m         stacklevel\u001b[39m=\u001b[39mfind_stack_level(),\n\u001b[0;32m   1414\u001b[0m     )\n\u001b[1;32m-> 1415\u001b[0m \u001b[39mreturn\u001b[39;00m \u001b[39msuper\u001b[39;49m()\u001b[39m.\u001b[39;49m\u001b[39m__getitem__\u001b[39;49m(key)\n",
      "File \u001b[1;32mc:\\Users\\Acer\\miniconda3\\lib\\site-packages\\pandas\\core\\base.py:238\u001b[0m, in \u001b[0;36mSelectionMixin.__getitem__\u001b[1;34m(self, key)\u001b[0m\n\u001b[0;32m    236\u001b[0m     \u001b[39mif\u001b[39;00m \u001b[39mlen\u001b[39m(\u001b[39mself\u001b[39m\u001b[39m.\u001b[39mobj\u001b[39m.\u001b[39mcolumns\u001b[39m.\u001b[39mintersection(key)) \u001b[39m!=\u001b[39m \u001b[39mlen\u001b[39m(\u001b[39mset\u001b[39m(key)):\n\u001b[0;32m    237\u001b[0m         bad_keys \u001b[39m=\u001b[39m \u001b[39mlist\u001b[39m(\u001b[39mset\u001b[39m(key)\u001b[39m.\u001b[39mdifference(\u001b[39mself\u001b[39m\u001b[39m.\u001b[39mobj\u001b[39m.\u001b[39mcolumns))\n\u001b[1;32m--> 238\u001b[0m         \u001b[39mraise\u001b[39;00m \u001b[39mKeyError\u001b[39;00m(\u001b[39mf\u001b[39m\u001b[39m\"\u001b[39m\u001b[39mColumns not found: \u001b[39m\u001b[39m{\u001b[39;00m\u001b[39mstr\u001b[39m(bad_keys)[\u001b[39m1\u001b[39m:\u001b[39m-\u001b[39m\u001b[39m1\u001b[39m]\u001b[39m}\u001b[39;00m\u001b[39m\"\u001b[39m)\n\u001b[0;32m    239\u001b[0m     \u001b[39mreturn\u001b[39;00m \u001b[39mself\u001b[39m\u001b[39m.\u001b[39m_gotitem(\u001b[39mlist\u001b[39m(key), ndim\u001b[39m=\u001b[39m\u001b[39m2\u001b[39m)\n\u001b[0;32m    241\u001b[0m \u001b[39melif\u001b[39;00m \u001b[39mnot\u001b[39;00m \u001b[39mgetattr\u001b[39m(\u001b[39mself\u001b[39m, \u001b[39m\"\u001b[39m\u001b[39mas_index\u001b[39m\u001b[39m\"\u001b[39m, \u001b[39mFalse\u001b[39;00m):\n",
      "\u001b[1;31mKeyError\u001b[0m: \"Columns not found: 'dead_man', 'injur_man', 'injur_femel', 'dead_femel'\""
     ]
    }
   ],
   "source": [
    "\n",
    "# prepare data\n",
    "accident_occurred = df.groupby([df['accident_timestamp'].dt.year])[['injur_man','injur_femel','dead_man','dead_femel']].sum()\n",
    "accident_occurred.reset_index(inplace = True)\n",
    "\n",
    "# plot graph\n",
    "\n",
    "fig, (ax1, ax2) = plt.subplots(1, 2, figsize=(12,4))\n",
    "\n",
    "accident_occurred.plot(kind='bar', x='accident_timestamp',xlabel='year', y=['injur_man','injur_femel'], ax=ax1, title= 'Number of injury')\n",
    "accident_occurred.plot(kind='bar', x='accident_timestamp',xlabel='year', y=['dead_man','dead_femel'], ax=ax2, title= 'Number of death')\n",
    "\n",
    "plt.show()"
   ]
  },
  {
   "attachments": {},
   "cell_type": "markdown",
   "metadata": {},
   "source": [
    "จากกราฟ แสดงจำนวณผู้ได้รับบาดเจ็บ และ เสียชีวิตจากอุบัติเหตบนทางด่วน\n",
    "- จำนวนอุบัติเหตที่เกิดขึ้นนั้น จะสังเกตได้ว่า จำนวนผู้ได้รับบาดเจ็บและการเสียชีวิตจากการเกิดอุบัติเหตุนั้น เป็นผู้ชายมากกว่าผู้หญิง ในทุกปี\n",
    "---"
   ]
  },
  {
   "cell_type": "code",
   "execution_count": null,
   "metadata": {},
   "outputs": [
    {
     "data": {
      "text/plain": [
       "<AxesSubplot: title={'center': 'acc in weekdays (numbers)'}, xlabel='accident_timestamp'>"
      ]
     },
     "execution_count": 42,
     "metadata": {},
     "output_type": "execute_result"
    },
    {
     "data": {
      "image/png": "[encoded data removed]",
      "text/plain": [
       "<Figure size 432x288 with 1 Axes>"
      ]
     },
     "metadata": {
      "needs_background": "light"
     },
     "output_type": "display_data"
    }
   ],
   "source": [
    "cats = [ 'Monday', 'Tuesday', 'Wednesday', 'Thursday', 'Friday', 'Saturday', 'Sunday']\n",
    "accident_numbers = df.groupby([df['accident_timestamp'].dt.day_name()])[['accident_timestamp']].count().reindex(cats)\n",
    "accident_numbers.plot(kind='bar',title='acc in weekdays (numbers)')"
   ]
  },
  {
   "cell_type": "code",
   "execution_count": null,
   "metadata": {},
   "outputs": [
    {
     "name": "stderr",
     "output_type": "stream",
     "text": [
      "C:\\Users\\Acer\\AppData\\Local\\Temp\\ipykernel_3732\\18118515.py:5: FutureWarning: The default value of numeric_only in DataFrameGroupBy.sum is deprecated. In a future version, numeric_only will default to False. Either specify numeric_only or select only columns which should be valid for the function.\n",
      "  time_range = time_range.groupby(pd.cut(time_range['accident_timestamp'].dt.hour, np.arange(0,25,4))).sum()\n"
     ]
    },
    {
     "data": {
      "text/plain": [
       "<AxesSubplot: title={'center': 'Time when accident occored'}, xlabel='time_text'>"
      ]
     },
     "execution_count": 43,
     "metadata": {},
     "output_type": "execute_result"
    },
    {
     "data": {
      "image/png": "[encoded data removed]",
      "text/plain": [
       "<Figure size 432x288 with 1 Axes>"
      ]
     },
     "metadata": {
      "needs_background": "light"
     },
     "output_type": "display_data"
    }
   ],
   "source": [
    "time = ['กลางคืน','เช้า','สาย','บ่าย','เย็น','ค่ำ']\n",
    "time_range = df.copy()\n",
    "time_range['count'] = 1\n",
    "# time_range['abc'] = ''\n",
    "time_range = time_range.groupby(pd.cut(time_range['accident_timestamp'].dt.hour, np.arange(0,25,4))).sum()\n",
    "time_range.reset_index(inplace = True)\n",
    "time_range = time_range.assign( time_text= time)\n",
    "time_range\n",
    "\n",
    "time_range.plot(kind='bar',title='Time when accident occored' , x='time_text', y=['count'])"
   ]
  },
  {
   "attachments": {},
   "cell_type": "markdown",
   "metadata": {},
   "source": [
    "จากกราฟ จำนวนการเกิดอุบัติเหตุเมื่อแยกเป็นรายสัปดาห์\n",
    "- จะพบว่าอุบัติเหตที่เกิดขึ้นนั้น เกิดในทุกวันในสัดส่วนที่ใกล้เคียงกัน\n",
    "- ในวันอาทิตย์เป็น วันที่ผู้คนส่วนใหญ่ใช้เวลาอยู่บ้าน จึงทำให้เกิดอุบัติเหตุน้อยกว่าวันอื่น\n",
    "---"
   ]
  },
  {
   "cell_type": "code",
   "execution_count": null,
   "metadata": {},
   "outputs": [
    {
     "data": {
      "text/plain": [
       "<AxesSubplot: title={'center': 'Number of accident occored in Express way'}, xlabel='expw_step'>"
      ]
     },
     "execution_count": 44,
     "metadata": {},
     "output_type": "execute_result"
    },
    {
     "data": {
      "image/png": "[encoded data removed]",
      "text/plain": [
       "<Figure size 432x288 with 1 Axes>"
      ]
     },
     "metadata": {
      "needs_background": "light"
     },
     "output_type": "display_data"
    }
   ],
   "source": [
    "dfmtw = df.groupby([df['expw_step']])[['accident_timestamp']].count()\n",
    "dfmtw.reset_index(inplace = True)\n",
    "dfmtw.set_index('expw_step',inplace = True)\n",
    "dfmtw.sort_values(['accident_timestamp'], ascending=False, inplace = True)\n",
    "dfmtw.plot(kind='bar',title='Number of accident occored in Express way')"
   ]
  },
  {
   "cell_type": "code",
   "execution_count": null,
   "metadata": {},
   "outputs": [
    {
     "data": {
      "text/plain": [
       "<AxesSubplot: title={'center': 'Cause of accident'}>"
      ]
     },
     "execution_count": 45,
     "metadata": {},
     "output_type": "execute_result"
    },
    {
     "data": {
      "image/png": "[encoded data removed]",
      "text/plain": [
       "<Figure size 1080x360 with 1 Axes>"
      ]
     },
     "metadata": {
      "needs_background": "light"
     },
     "output_type": "display_data"
    }
   ],
   "source": [
    "# Top 5 cause\n",
    "df['cause'].value_counts().plot(kind='bar', title='Cause of accident', figsize=(15,5))"
   ]
  },
  {
   "cell_type": "code",
   "execution_count": null,
   "metadata": {},
   "outputs": [
    {
     "data": {
      "image/png": "[encoded data removed]",
      "text/plain": [
       "<Figure size 720x720 with 4 Axes>"
      ]
     },
     "metadata": {
      "needs_background": "light"
     },
     "output_type": "display_data"
    }
   ],
   "source": [
    "motorway = dfmtw.index\n",
    "\n",
    "fig, axs = plt.subplots(2, 2, figsize=(10,10))\n",
    "\n",
    "df[df['cause'] == 'ขับรถเร็วเกินกำหนด']['expw_step'].value_counts().reindex(motorway).plot(kind='bar',title='speed over limit', ax=axs[0,0])\n",
    "df[df['cause'] == 'เปลี่ยนช่องทางกะทันหัน']['expw_step'].value_counts().reindex(motorway).plot(kind='bar',title='Improper lane change', ax=axs[0,1])\n",
    "df[df['cause'] == 'สาเหตุจากสภาพรถ/ถนน']['expw_step'].value_counts().reindex(motorway).plot(kind='bar',title='vehical/road malfunctions', ax=axs[1,0])\n",
    "df[df['cause'] == 'หลับใน']['expw_step'].value_counts().reindex(motorway).plot(kind='bar',title='sleep without closing eyes', ax=axs[1,1])\n",
    "fig.tight_layout()\n",
    "plt.show()"
   ]
  },
  {
   "attachments": {},
   "cell_type": "markdown",
   "metadata": {},
   "source": [
    "จากกราฟ \n",
    "- เส้นทางด่วนศรีรัช เป็นทางด่วนที่มีการเกิดอุบัติเหตุมากที่สุด แต่สาเหตุหลักของการเกิดอุบัติเหตุบนเส้นทางนี้ เกิดจากการขับรถเปลี่ยนเลนกระทันหันเป็นหลัก\n",
    "- เส้นทางด่วนบางพลี-สุขสวัสดิ์ และ เส้นทางด่วนบูรพาวิธี เป็นเส้นทางที่มีการเกิดอุบัติเหตุเนื่องจากการขับรถเร็วเกินกำหนด\n",
    "- เส้นทางด่วนบางพลี-สุขสวัสดิ์ เองก็เป็นหนึ\n",
    "---"
   ]
  },
  {
   "attachments": {},
   "cell_type": "markdown",
   "metadata": {},
   "source": [
    "## Policy"
   ]
  },
  {
   "attachments": {},
   "cell_type": "markdown",
   "metadata": {},
   "source": [
    "<!-- ![Policy](https://github.com/Pooote/Business_Intelligent/blob/main/policy.jpg?raw=true) -->\n",
    "<img src=\"https://github.com/Pooote/Business_Intelligent/blob/main/policy.jpg?raw=true\" alt=\"Policy\" style=\"height: 1000px; width:850px;\"/>\n",
    "\n"
   ]
  }
 ],
 "metadata": {
  "kernelspec": {
   "display_name": "base",
   "language": "python",
   "name": "python3"
  },
  "language_info": {
   "codemirror_mode": {
    "name": "ipython",
    "version": 3
   },
   "file_extension": ".py",
   "mimetype": "text/x-python",
   "name": "python",
   "nbconvert_exporter": "python",
   "pygments_lexer": "ipython3",
   "version": "3.9.7"
  },
  "orig_nbformat": 4,
  "vscode": {
   "interpreter": {
    "hash": "fedc3f56c56c7a0bd22d9790ede6240a5ff04828cd6de4187b314c8c8833d35c"
   }
  }
 },
 "nbformat": 4,
 "nbformat_minor": 2
}
