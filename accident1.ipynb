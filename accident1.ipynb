{
 "cells": [
  {
   "attachments": {},
   "cell_type": "markdown",
   "metadata": {},
   "source": [
    "# Accident on Expressway"
   ]
  },
  {
   "attachments": {},
   "cell_type": "markdown",
   "metadata": {},
   "source": [
    "Assignment 1 - accident on expressway (Business Intelligence)\n",
    "\n",
    "รายชื่อผู้จัดทำ              \n",
    "\n",
    "- นางสาวกรกนก กลิ่นสุมาลี 6341005826\n",
    "- นายนพกฤษฏิ์ ภูริสุริยโรจน์ 6341109426\n"
   ]
  },
  {
   "attachments": {},
   "cell_type": "markdown",
   "metadata": {},
   "source": [
    "-------------\n",
    "## ความสำคัญของข้อมูล\n",
    "ที่มา - ประเทศไทยเป็นประเทศหนึ่งที่มีการเกิดอุบัติเหตุเกิดขึ้นมากมายการเดินทางบนทางด่วนนั้น เป็นพื้นที่ที่ทุกคนอาจเรียกได้ว่าปลอดภัยที่สุด\n",
    "\n",
    "เนื่องจาก\n",
    "- รถยนต์ใช้ได้เท่านั้น\n",
    "- ไม่มีผู้คนสัญจรไปมา\n",
    "- ไม่มีสิ่งกีดขวาง\n",
    "- ไม่มีโค้กหักศอก\n",
    "- ไม่มีมุมอับสายตา\n",
    "\n",
    "แต่ทว่าบนทางด่วนที่ปลอดภัยต่อการขับรถนั้น ยังคงเกิดอุบัติเหตุขึ้นมากมาย โดยเนื้อหาในรายงานเล่มนี้จะเป็นการหาที่มาของปัญหา และสำรวจข้อมูล\n"
   ]
  },
  {
   "attachments": {},
   "cell_type": "markdown",
   "metadata": {},
   "source": [
    "------------\n",
    "## ที่มา\n",
    "* องค์กร : การทางพิเศษแห่งประเทศไทย\n",
    "* ที่มา : https://data.go.th/dataset/vachara\n"
   ]
  },
  {
   "attachments": {},
   "cell_type": "markdown",
   "metadata": {},
   "source": [
    "------------\n",
    "## import libary"
   ]
  },
  {
   "cell_type": "code",
   "execution_count": 27,
   "metadata": {},
   "outputs": [],
   "source": [
    "import pandas as pd\n",
    "import sys\n",
    "import matplotlib.pyplot as plt\n",
    "import numpy as np\n",
    "import seaborn as sns\n",
    "import matplotlib\n",
    "import ipywidgets as widgets\n",
    "from ipywidgets import interact\n",
    "\n",
    "plt.rcParams['font.family'] = 'Tahoma'\n"
   ]
  },
  {
   "cell_type": "code",
   "execution_count": 28,
   "metadata": {},
   "outputs": [
    {
     "name": "stdout",
     "output_type": "stream",
     "text": [
      "python version: 3.9.16 (main, Jan 11 2023, 16:16:36) [MSC v.1916 64 bit (AMD64)]\n",
      "pandas version: 1.5.2\n",
      "seaborn version: 0.12.2\n",
      "ipywidgets version: 8.0.4\n"
     ]
    }
   ],
   "source": [
    "# Version\n",
    "print(f'python version: {sys.version}')\n",
    "print(f'pandas version: {pd.__version__}')\n",
    "print(f'seaborn version: {sns.__version__}')\n",
    "print(f'ipywidgets version: {widgets.__version__}')"
   ]
  },
  {
   "cell_type": "code",
   "execution_count": 29,
   "metadata": {},
   "outputs": [],
   "source": [
    "# Read Data from Github\n",
    "\n",
    "df1 = pd.read_csv('https://github.com/Pooote/Business_Intelligent/raw/main/accident_2561.csv')\n",
    "df2 = pd.read_csv('https://github.com/Pooote/Business_Intelligent/raw/main/accident_2562.csv')\n",
    "df3 = pd.read_csv('https://github.com/Pooote/Business_Intelligent/raw/main/accident_2563.csv')\n",
    "df4 = pd.read_csv('https://github.com/Pooote/Business_Intelligent/raw/main/accident_2564.csv')\n",
    "df5 = pd.read_csv('https://github.com/Pooote/Business_Intelligent/raw/main/accident_2565.csv')\n"
   ]
  },
  {
   "cell_type": "code",
   "execution_count": 30,
   "metadata": {},
   "outputs": [
    {
     "data": {
      "text/html": [
       "<div>\n",
       "<style scoped>\n",
       "    .dataframe tbody tr th:only-of-type {\n",
       "        vertical-align: middle;\n",
       "    }\n",
       "\n",
       "    .dataframe tbody tr th {\n",
       "        vertical-align: top;\n",
       "    }\n",
       "\n",
       "    .dataframe thead th {\n",
       "        text-align: right;\n",
       "    }\n",
       "</style>\n",
       "<table border=\"1\" class=\"dataframe\">\n",
       "  <thead>\n",
       "    <tr style=\"text-align: right;\">\n",
       "      <th></th>\n",
       "      <th>accident_date</th>\n",
       "      <th>accident_time</th>\n",
       "      <th>step</th>\n",
       "      <th>ad_state</th>\n",
       "      <th>acman_rec</th>\n",
       "      <th>acfem_rec</th>\n",
       "      <th>deadman_rec</th>\n",
       "      <th>deadfem_rec</th>\n",
       "      <th>cause_type</th>\n",
       "    </tr>\n",
       "  </thead>\n",
       "  <tbody>\n",
       "    <tr>\n",
       "      <th>719</th>\n",
       "      <td>2020-10-10 01:17:17</td>\n",
       "      <td>01:17:17</td>\n",
       "      <td>ศรีรัช</td>\n",
       "      <td>ปกติ</td>\n",
       "      <td>0</td>\n",
       "      <td>0</td>\n",
       "      <td>0</td>\n",
       "      <td>0</td>\n",
       "      <td>เปลี่ยนช่องทางกระทันหัน</td>\n",
       "    </tr>\n",
       "    <tr>\n",
       "      <th>502</th>\n",
       "      <td>2021-01-16 20:42:42</td>\n",
       "      <td>20:42:42</td>\n",
       "      <td>บูรพาวิถี</td>\n",
       "      <td>ปกติ</td>\n",
       "      <td>0</td>\n",
       "      <td>0</td>\n",
       "      <td>0</td>\n",
       "      <td>0</td>\n",
       "      <td>ขับรถเร็วเกินไป</td>\n",
       "    </tr>\n",
       "    <tr>\n",
       "      <th>288</th>\n",
       "      <td>2021-04-29 16:05:05</td>\n",
       "      <td>16:05:05</td>\n",
       "      <td>ศรีรัช</td>\n",
       "      <td>ปกติ</td>\n",
       "      <td>0</td>\n",
       "      <td>0</td>\n",
       "      <td>0</td>\n",
       "      <td>0</td>\n",
       "      <td>เปลี่ยนช่องทางกระทันหัน</td>\n",
       "    </tr>\n",
       "    <tr>\n",
       "      <th>71</th>\n",
       "      <td>2021-09-05 13:20:20</td>\n",
       "      <td>13:20:20</td>\n",
       "      <td>บูรพาวิถี</td>\n",
       "      <td>ปกติ</td>\n",
       "      <td>0</td>\n",
       "      <td>0</td>\n",
       "      <td>0</td>\n",
       "      <td>0</td>\n",
       "      <td>ขับรถเร็วเกินไป</td>\n",
       "    </tr>\n",
       "    <tr>\n",
       "      <th>417</th>\n",
       "      <td>2021-03-04 13:12:12</td>\n",
       "      <td>13:12:12</td>\n",
       "      <td>บางพลี-สุขสวัสดิ์</td>\n",
       "      <td>ปกติ</td>\n",
       "      <td>0</td>\n",
       "      <td>0</td>\n",
       "      <td>0</td>\n",
       "      <td>0</td>\n",
       "      <td>นับเงินทอนค่าผ่านทาง</td>\n",
       "    </tr>\n",
       "  </tbody>\n",
       "</table>\n",
       "</div>"
      ],
      "text/plain": [
       "           accident_date accident_time               step ad_state  acman_rec  \\\n",
       "719  2020-10-10 01:17:17      01:17:17             ศรีรัช     ปกติ          0   \n",
       "502  2021-01-16 20:42:42      20:42:42          บูรพาวิถี     ปกติ          0   \n",
       "288  2021-04-29 16:05:05      16:05:05             ศรีรัช     ปกติ          0   \n",
       "71   2021-09-05 13:20:20      13:20:20          บูรพาวิถี     ปกติ          0   \n",
       "417  2021-03-04 13:12:12      13:12:12  บางพลี-สุขสวัสดิ์     ปกติ          0   \n",
       "\n",
       "     acfem_rec  deadman_rec  deadfem_rec               cause_type  \n",
       "719          0            0            0  เปลี่ยนช่องทางกระทันหัน  \n",
       "502          0            0            0          ขับรถเร็วเกินไป  \n",
       "288          0            0            0  เปลี่ยนช่องทางกระทันหัน  \n",
       "71           0            0            0          ขับรถเร็วเกินไป  \n",
       "417          0            0            0     นับเงินทอนค่าผ่านทาง  "
      ]
     },
     "execution_count": 30,
     "metadata": {},
     "output_type": "execute_result"
    }
   ],
   "source": [
    "# Sampling the Data from Dataframe\n",
    "\n",
    "df4.sample(5)\n"
   ]
  },
  {
   "attachments": {},
   "cell_type": "markdown",
   "metadata": {},
   "source": [
    "---\n",
    "## Clean data\n",
    "- เปลี่ยนชื่อ column ให้ถูกต้อง จัดข้อมูลในแต่ละ column ให้เป็นไปในรูปแบบเดียวกัน / มีประเภทของข้อมูลที่เหมือนกัน\n",
    "- รวม dataframe ในแต่ละปีให้เป็น dataframe เดียวกัน\n",
    "- รวมกลุ่มข้อมูลจัดให้อยู่ในรูปแบบของ dictionary \n",
    "- จัดการข้อมูลใน column สาเหตุของการเกิดอุบัติเหตุ\n"
   ]
  },
  {
   "cell_type": "code",
   "execution_count": 31,
   "metadata": {},
   "outputs": [
    {
     "name": "stdout",
     "output_type": "stream",
     "text": [
      "2561 - ['accident_date', 'accident_time', 'expw_step', 'weather_state', 'injur_man', 'injur_femel', 'dead_man', 'dead_femel', 'cause']\n",
      "2562 - ['accident_date', 'accident_time', 'expw_step', 'weather_state', 'injur_man', 'injur_femel', 'dead_man', 'dead_femel', 'cause']\n",
      "2563 - ['accident_date', 'accident_time', 'expw_step', 'weather_state', 'injur_man', 'injur_femel', 'dead_man', 'dead_femel', 'cause']\n",
      "2564 - ['accident_date', 'accident_time', 'step', 'ad_state', 'acman_rec', 'acfem_rec', 'deadman_rec', 'deadfem_rec', 'cause_type']\n",
      "2565 - ['accident_date', 'accident_time', 'expw_step', 'weather_state', 'injur_man', 'injur_femel', 'dead_man', 'dead_femel', 'cause']\n"
     ]
    }
   ],
   "source": [
    "# Present All Column Header in Each DataFrame\n",
    "\n",
    "df_lists = [df1,df2,df3,df4,df5]\n",
    "for i,dataframe in enumerate(df_lists):\n",
    "    print(f'{i+2561} - {dataframe.columns.to_list()}')\n",
    "    "
   ]
  },
  {
   "cell_type": "code",
   "execution_count": 32,
   "metadata": {},
   "outputs": [],
   "source": [
    "# Set Correct Column Name\n",
    "correct_column = ['accident_date', 'accident_time', 'express_way', 'weather_status','injury_male', 'injury_female', 'dead_male', 'dead_female', 'cause']\n",
    "\n",
    "# Change All Column Name \n",
    "dataframe_list = [df1, df2, df3, df4, df5]\n",
    "for dataframe in dataframe_list:\n",
    "    dataframe.columns = correct_column\n"
   ]
  },
  {
   "cell_type": "code",
   "execution_count": 33,
   "metadata": {},
   "outputs": [],
   "source": [
    "# Remove Time from Accident_date Column\n",
    "df4['accident_date'] = df4['accident_date'].str[:10]\n"
   ]
  },
  {
   "cell_type": "code",
   "execution_count": 34,
   "metadata": {},
   "outputs": [
    {
     "data": {
      "text/html": [
       "<div>\n",
       "<style scoped>\n",
       "    .dataframe tbody tr th:only-of-type {\n",
       "        vertical-align: middle;\n",
       "    }\n",
       "\n",
       "    .dataframe tbody tr th {\n",
       "        vertical-align: top;\n",
       "    }\n",
       "\n",
       "    .dataframe thead th {\n",
       "        text-align: right;\n",
       "    }\n",
       "</style>\n",
       "<table border=\"1\" class=\"dataframe\">\n",
       "  <thead>\n",
       "    <tr style=\"text-align: right;\">\n",
       "      <th></th>\n",
       "      <th>accident_date</th>\n",
       "      <th>accident_time</th>\n",
       "      <th>express_way</th>\n",
       "      <th>weather_status</th>\n",
       "      <th>injury_male</th>\n",
       "      <th>injury_female</th>\n",
       "      <th>dead_male</th>\n",
       "      <th>dead_female</th>\n",
       "      <th>cause</th>\n",
       "    </tr>\n",
       "  </thead>\n",
       "  <tbody>\n",
       "    <tr>\n",
       "      <th>0</th>\n",
       "      <td>2018-03-20</td>\n",
       "      <td>18:07:07</td>\n",
       "      <td>ศรีรัช</td>\n",
       "      <td>ปกติ</td>\n",
       "      <td>0</td>\n",
       "      <td>0</td>\n",
       "      <td>0</td>\n",
       "      <td>0</td>\n",
       "      <td>เบรคกระทันหัน</td>\n",
       "    </tr>\n",
       "    <tr>\n",
       "      <th>1</th>\n",
       "      <td>2018-08-07</td>\n",
       "      <td>23:12:12</td>\n",
       "      <td>ศรีรัช</td>\n",
       "      <td>ปกติ</td>\n",
       "      <td>0</td>\n",
       "      <td>0</td>\n",
       "      <td>0</td>\n",
       "      <td>0</td>\n",
       "      <td>เข้าผิดช่องทาง</td>\n",
       "    </tr>\n",
       "    <tr>\n",
       "      <th>2</th>\n",
       "      <td>2018-05-30</td>\n",
       "      <td>08:34:34</td>\n",
       "      <td>ศรีรัช</td>\n",
       "      <td>ปกติ</td>\n",
       "      <td>0</td>\n",
       "      <td>0</td>\n",
       "      <td>0</td>\n",
       "      <td>0</td>\n",
       "      <td>ก้มเก็บเงิน</td>\n",
       "    </tr>\n",
       "    <tr>\n",
       "      <th>3</th>\n",
       "      <td>2017-11-22</td>\n",
       "      <td>16:51:51</td>\n",
       "      <td>ศรีรัช</td>\n",
       "      <td>ปกติ</td>\n",
       "      <td>0</td>\n",
       "      <td>0</td>\n",
       "      <td>0</td>\n",
       "      <td>0</td>\n",
       "      <td>ขับชิดขอบทางมาก</td>\n",
       "    </tr>\n",
       "    <tr>\n",
       "      <th>4</th>\n",
       "      <td>2018-06-27</td>\n",
       "      <td>08:12:12</td>\n",
       "      <td>ศรีรัช</td>\n",
       "      <td>ปกติ</td>\n",
       "      <td>0</td>\n",
       "      <td>0</td>\n",
       "      <td>0</td>\n",
       "      <td>0</td>\n",
       "      <td>ถอยเบียดแท่นปูน</td>\n",
       "    </tr>\n",
       "    <tr>\n",
       "      <th>...</th>\n",
       "      <td>...</td>\n",
       "      <td>...</td>\n",
       "      <td>...</td>\n",
       "      <td>...</td>\n",
       "      <td>...</td>\n",
       "      <td>...</td>\n",
       "      <td>...</td>\n",
       "      <td>...</td>\n",
       "      <td>...</td>\n",
       "    </tr>\n",
       "    <tr>\n",
       "      <th>4369</th>\n",
       "      <td>2021-10-04</td>\n",
       "      <td>16:19:19</td>\n",
       "      <td>บูรพาวิถี</td>\n",
       "      <td>ปกติ</td>\n",
       "      <td>2</td>\n",
       "      <td>0</td>\n",
       "      <td>0</td>\n",
       "      <td>0</td>\n",
       "      <td>ยางแตก</td>\n",
       "    </tr>\n",
       "    <tr>\n",
       "      <th>4370</th>\n",
       "      <td>2021-10-03</td>\n",
       "      <td>10:43:43</td>\n",
       "      <td>บางพลี-สุขสวัสดิ์</td>\n",
       "      <td>ปกติ</td>\n",
       "      <td>1</td>\n",
       "      <td>0</td>\n",
       "      <td>0</td>\n",
       "      <td>0</td>\n",
       "      <td>ไม่ชะลอความเร็ว</td>\n",
       "    </tr>\n",
       "    <tr>\n",
       "      <th>4371</th>\n",
       "      <td>2021-10-03</td>\n",
       "      <td>21:56:56</td>\n",
       "      <td>ศรีรัช-วงแหวนรอบนอก</td>\n",
       "      <td>ฝนตก</td>\n",
       "      <td>0</td>\n",
       "      <td>0</td>\n",
       "      <td>0</td>\n",
       "      <td>0</td>\n",
       "      <td>ขับรถเร็วเกินไป</td>\n",
       "    </tr>\n",
       "    <tr>\n",
       "      <th>4372</th>\n",
       "      <td>2021-10-01</td>\n",
       "      <td>11:25:25</td>\n",
       "      <td>ศรีรัช</td>\n",
       "      <td>ปกติ</td>\n",
       "      <td>0</td>\n",
       "      <td>0</td>\n",
       "      <td>0</td>\n",
       "      <td>0</td>\n",
       "      <td>เบรคขัดข้อง</td>\n",
       "    </tr>\n",
       "    <tr>\n",
       "      <th>4373</th>\n",
       "      <td>2021-10-01</td>\n",
       "      <td>14:40:40</td>\n",
       "      <td>ศรีรัช-วงแหวนรอบนอก</td>\n",
       "      <td>ฝนตก</td>\n",
       "      <td>0</td>\n",
       "      <td>0</td>\n",
       "      <td>0</td>\n",
       "      <td>0</td>\n",
       "      <td>เบรคขัดข้อง</td>\n",
       "    </tr>\n",
       "  </tbody>\n",
       "</table>\n",
       "<p>4374 rows × 9 columns</p>\n",
       "</div>"
      ],
      "text/plain": [
       "     accident_date accident_time          express_way weather_status  \\\n",
       "0       2018-03-20      18:07:07               ศรีรัช           ปกติ   \n",
       "1       2018-08-07      23:12:12               ศรีรัช           ปกติ   \n",
       "2       2018-05-30      08:34:34               ศรีรัช           ปกติ   \n",
       "3       2017-11-22      16:51:51               ศรีรัช           ปกติ   \n",
       "4       2018-06-27      08:12:12               ศรีรัช           ปกติ   \n",
       "...            ...           ...                  ...            ...   \n",
       "4369    2021-10-04      16:19:19            บูรพาวิถี           ปกติ   \n",
       "4370    2021-10-03      10:43:43    บางพลี-สุขสวัสดิ์           ปกติ   \n",
       "4371    2021-10-03      21:56:56  ศรีรัช-วงแหวนรอบนอก           ฝนตก   \n",
       "4372    2021-10-01      11:25:25               ศรีรัช           ปกติ   \n",
       "4373    2021-10-01      14:40:40  ศรีรัช-วงแหวนรอบนอก           ฝนตก   \n",
       "\n",
       "      injury_male  injury_female  dead_male  dead_female            cause  \n",
       "0               0              0          0            0    เบรคกระทันหัน  \n",
       "1               0              0          0            0   เข้าผิดช่องทาง  \n",
       "2               0              0          0            0      ก้มเก็บเงิน  \n",
       "3               0              0          0            0  ขับชิดขอบทางมาก  \n",
       "4               0              0          0            0  ถอยเบียดแท่นปูน  \n",
       "...           ...            ...        ...          ...              ...  \n",
       "4369            2              0          0            0           ยางแตก  \n",
       "4370            1              0          0            0  ไม่ชะลอความเร็ว  \n",
       "4371            0              0          0            0  ขับรถเร็วเกินไป  \n",
       "4372            0              0          0            0      เบรคขัดข้อง  \n",
       "4373            0              0          0            0      เบรคขัดข้อง  \n",
       "\n",
       "[4374 rows x 9 columns]"
      ]
     },
     "execution_count": 34,
     "metadata": {},
     "output_type": "execute_result"
    }
   ],
   "source": [
    "# Combining All Files & Reset Index\n",
    "df = pd.concat([df1, df2, df3, df4, df5])\n",
    "df.reset_index(drop=True, inplace=True)\n",
    "df\n"
   ]
  },
  {
   "cell_type": "code",
   "execution_count": 35,
   "metadata": {},
   "outputs": [
    {
     "data": {
      "text/html": [
       "<div>\n",
       "<style scoped>\n",
       "    .dataframe tbody tr th:only-of-type {\n",
       "        vertical-align: middle;\n",
       "    }\n",
       "\n",
       "    .dataframe tbody tr th {\n",
       "        vertical-align: top;\n",
       "    }\n",
       "\n",
       "    .dataframe thead th {\n",
       "        text-align: right;\n",
       "    }\n",
       "</style>\n",
       "<table border=\"1\" class=\"dataframe\">\n",
       "  <thead>\n",
       "    <tr style=\"text-align: right;\">\n",
       "      <th></th>\n",
       "      <th>accident_timestamp</th>\n",
       "      <th>express_way</th>\n",
       "      <th>weather_status</th>\n",
       "      <th>injury_male</th>\n",
       "      <th>injury_female</th>\n",
       "      <th>dead_male</th>\n",
       "      <th>dead_female</th>\n",
       "      <th>cause</th>\n",
       "    </tr>\n",
       "  </thead>\n",
       "  <tbody>\n",
       "    <tr>\n",
       "      <th>2158</th>\n",
       "      <td>2020-02-18 08:23:23</td>\n",
       "      <td>ฉลองรัช</td>\n",
       "      <td>ปกติ</td>\n",
       "      <td>0</td>\n",
       "      <td>0</td>\n",
       "      <td>0</td>\n",
       "      <td>0</td>\n",
       "      <td>ขับรถเร็วเกินไป</td>\n",
       "    </tr>\n",
       "    <tr>\n",
       "      <th>691</th>\n",
       "      <td>2018-07-07 04:28:28</td>\n",
       "      <td>ศรีรัช</td>\n",
       "      <td>ปกติ</td>\n",
       "      <td>0</td>\n",
       "      <td>0</td>\n",
       "      <td>0</td>\n",
       "      <td>0</td>\n",
       "      <td>สาเหตุจากสภาพรถ/ถนน</td>\n",
       "    </tr>\n",
       "    <tr>\n",
       "      <th>3307</th>\n",
       "      <td>2020-12-17 11:50:50</td>\n",
       "      <td>ศรีรัช</td>\n",
       "      <td>ปกติ</td>\n",
       "      <td>0</td>\n",
       "      <td>0</td>\n",
       "      <td>0</td>\n",
       "      <td>0</td>\n",
       "      <td>ขับรถเร็วเกินไป</td>\n",
       "    </tr>\n",
       "    <tr>\n",
       "      <th>2795</th>\n",
       "      <td>2021-09-18 11:34:34</td>\n",
       "      <td>ฉลองรัช</td>\n",
       "      <td>ปกติ</td>\n",
       "      <td>1</td>\n",
       "      <td>0</td>\n",
       "      <td>0</td>\n",
       "      <td>0</td>\n",
       "      <td>สภาพแวดล้อม</td>\n",
       "    </tr>\n",
       "    <tr>\n",
       "      <th>4043</th>\n",
       "      <td>2022-02-23 09:00:00</td>\n",
       "      <td>บางพลี-สุขสวัสดิ์</td>\n",
       "      <td>ปกติ</td>\n",
       "      <td>0</td>\n",
       "      <td>0</td>\n",
       "      <td>0</td>\n",
       "      <td>0</td>\n",
       "      <td>ขับรถเร็วเกินไป</td>\n",
       "    </tr>\n",
       "  </tbody>\n",
       "</table>\n",
       "</div>"
      ],
      "text/plain": [
       "      accident_timestamp        express_way weather_status  injury_male  \\\n",
       "2158 2020-02-18 08:23:23            ฉลองรัช           ปกติ            0   \n",
       "691  2018-07-07 04:28:28             ศรีรัช           ปกติ            0   \n",
       "3307 2020-12-17 11:50:50             ศรีรัช           ปกติ            0   \n",
       "2795 2021-09-18 11:34:34            ฉลองรัช           ปกติ            1   \n",
       "4043 2022-02-23 09:00:00  บางพลี-สุขสวัสดิ์           ปกติ            0   \n",
       "\n",
       "      injury_female  dead_male  dead_female                           cause  \n",
       "2158              0          0            0  ขับรถเร็วเกินไป                 \n",
       "691               0          0            0             สาเหตุจากสภาพรถ/ถนน  \n",
       "3307              0          0            0                 ขับรถเร็วเกินไป  \n",
       "2795              0          0            0                     สภาพแวดล้อม  \n",
       "4043              0          0            0                 ขับรถเร็วเกินไป  "
      ]
     },
     "execution_count": 35,
     "metadata": {},
     "output_type": "execute_result"
    }
   ],
   "source": [
    "# Combine Column Date and Time to Column Timestamp\n",
    "\n",
    "df['accident_date'] = pd.to_datetime(df['accident_date'].astype(str) + ' ' + df['accident_time'].astype(str))\n",
    "\n",
    "del df['accident_time']\n",
    "\n",
    "df.rename(columns={'accident_date': 'accident_timestamp'}, inplace=True)\n",
    "\n",
    "df.sample(5)\n"
   ]
  },
  {
   "cell_type": "code",
   "execution_count": 36,
   "metadata": {},
   "outputs": [
    {
     "name": "stdout",
     "output_type": "stream",
     "text": [
      "<class 'pandas.core.frame.DataFrame'>\n",
      "RangeIndex: 4374 entries, 0 to 4373\n",
      "Data columns (total 8 columns):\n",
      " #   Column              Non-Null Count  Dtype         \n",
      "---  ------              --------------  -----         \n",
      " 0   accident_timestamp  4374 non-null   datetime64[ns]\n",
      " 1   express_way         4374 non-null   object        \n",
      " 2   weather_status      4374 non-null   object        \n",
      " 3   injury_male         4374 non-null   int64         \n",
      " 4   injury_female       4374 non-null   int64         \n",
      " 5   dead_male           4374 non-null   int64         \n",
      " 6   dead_female         4374 non-null   int64         \n",
      " 7   cause               4374 non-null   object        \n",
      "dtypes: datetime64[ns](1), int64(4), object(3)\n",
      "memory usage: 273.5+ KB\n"
     ]
    }
   ],
   "source": [
    "# Check the information of the Dataframe\n",
    "df.info()"
   ]
  },
  {
   "cell_type": "code",
   "execution_count": 37,
   "metadata": {},
   "outputs": [
    {
     "name": "stdout",
     "output_type": "stream",
     "text": [
      "Number of possible value : 277 \n"
     ]
    },
    {
     "data": {
      "text/plain": [
       "array(['เบรคกระทันหัน', 'เข้าผิดช่องทาง', 'ก้มเก็บเงิน',\n",
       "       'ขับชิดขอบทางมาก', 'ถอยเบียดแท่นปูน', 'ขับชิดมากเกินไป',\n",
       "       'เบรคกระทันหหัน', 'ขับถอยหลัง', 'ไม่ทันสังเกตุ', 'ก้มหยิบของ',\n",
       "       'ถอยหลังเข้าตู้ผิด', 'ขับชิดขวามากเกินไป', 'หยิบของในรถ',\n",
       "       'ผู้ขับขี่ก้มหยิบของ', 'ขับรถช้าลง', 'เชี่ยวชน',\n",
       "       'บรรทุกหนักเกินไป', 'รอตรวจสอบ', 'ความร้อนขึ้นแล้วฟืนขับต่อ',\n",
       "       'จอดเลนฉุกเฉิน', 'เสียหลักพลิกคว่ำ', 'กระบะจอดช่วงทางโค้ง',\n",
       "       'ขับขี่ย้อนศร', 'กระระยะผิดก่อนเจ้าตู้2',\n",
       "       'ก้มเก็บสิ่งของในห้องโดยสาร', '.', 'ชนท้าย', 'ยางแตก',\n",
       "       'รอการตรวจสอบ', 'มึนเมา', 'ไม่ทราบสาเหตุ', 'ผู้ขับขี่หมดสติ',\n",
       "       'รถมีขนาดใหญ่เกินไป', 'เบรคไม่ทัน', 'วิ่งช่องฉุกเฉิน',\n",
       "       'กระบะจอดตรวจสอบสิ่งของ', 'ไฟฟ้าลัดวงจร', 'เพลิงไหม้',\n",
       "       'เบรคกะทันหัน', 'เสียหลัก', 'ขับรถประมาท', 'บรรทุกยื่นล้ำ',\n",
       "       'ขับรถโดยประมาท', 'ล้อหลุดไปชนรถคู่กรณี',\n",
       "       'ขับรถเร็วในช่องทางฉุกเฉิน', 'เฉียวชนแล้วหลบหนี', 'เบรกติดล้อ',\n",
       "       'ประมาท ขับรถเร็ว', 'ไม่มีอีซี่พาส', 'กำลังจะไปช่วย ว.40 ขึ้นบรมฯ',\n",
       "       'รถเบรกไม่อยู่', 'วิ่งเลนฉุกเฉิน', 'เดินรถไหล่ทางซ้าย',\n",
       "       'ล้อหลุดเสียหลักพลิกคว่ำ', 'ไม่ระมัดระวัง', 'ประมาท', 'หลับใน',\n",
       "       'โรคประจำตัว', 'ขับรถเร็วเกินไป', 'สาเหตุจากสภาพรถ/ถนน',\n",
       "       'ฝ่าฝืนสัญญาณ/ป้ายจราจร', 'เปลี่ยนช่องทางกระทันหัน', 'ก้มเก็บของ',\n",
       "       'ก้มหาเงินค่าผ่านทาง', '-', 'ขับชิดขอบทางซ้าย', 'เหม่อลอย',\n",
       "       'ขับกระชั้นชิด', 'ขับชิดคันหน้ามากเกินไป', 'ขับขี่กะชั้นชิดเกินไป',\n",
       "       'ย้อนทางเข้าด่าน', 'มีเก้าอี้ตกหล่น', 'รองเท้าเบ้าไปขัดขาเบรค',\n",
       "       'ขับรถย้อนทางมาจากทางลงสุขุมวิท', 'มีรถจอดเสียช่องกลาง ชนท้าย',\n",
       "       'จอดในช่องเดินรถซ้าย', 'ก้มเก็บโทรศัพท์', 'เบรคแตก', 'มองไม่เห็น',\n",
       "       'ก้มเก็บสิ่งของ', 'กลับรถไม่พ้น', 'ขับรถในระยะกระชั้นชิด',\n",
       "       'ขับในระยะกระชั้นชิด', 'ใช้ความเร็วในการเข้าโค้ง', 'ย้อนออกด่าน',\n",
       "       'เบรกกระทันหัน', 'ขับรถในระยะกระชันชิด', 'เบรกติด',\n",
       "       'ชะลอดูว.40ฝั่งตรงข้าม', 'เข้าผิดตู้', 'โดนรถบรรทุกเบียด',\n",
       "       'หางพ่วงเรือเจ๊ตสกรีหลุด', 'หลงทางแล้วถอยชน',\n",
       "       'ขับชิดขอบทางขวามากเกินไป', 'ไม่ได้ปิดประตูตู้บรรทุก', 'เบรกชำรุด',\n",
       "       'เบรคแล้วเสียหลัก', 'ขับปาดกันไปมา                 ',\n",
       "       'เบครกระทันหัน                 ', 'ขับรถย้อนทาง                  ',\n",
       "       'เข้าผิดช่ิอง                  ', 'แก๊สกระป๋องเล็กรั่ว           ',\n",
       "       'ก้มหยิบเงิน                   ', 'เข้าผิดช่องทาง                ',\n",
       "       'ขับชิดขวามากเกินไป            ', 'เข้าช่องเก็บค่าผ่านทางผิด     ',\n",
       "       'ก้มหยิบของ                    ', '-                             ',\n",
       "       'เหยียบสิ้งของตกหล่นแผ่นเหล็ก  ', 'มีกรงสุนัขตกหล่น              ',\n",
       "       'ก้มเก็บเงิน                   ', 'เสียหลัก                      ',\n",
       "       'เบรคติด                       ', 'รอการตรวจสอบ                  ',\n",
       "       'ขับเร็วเฉี่ยวชนท้าย           ', 'ระบบไฮโดรลิคขัดข้อง           ',\n",
       "       'ไฟฟ้ารัดวงจรในห้องเครื่อง     ', 'ขับรถด้วยความประมาท           ',\n",
       "       'เปิดประตูมารับบัตรแล้วกระแทกตู', 'ยากแตก                        ',\n",
       "       'เครนฟาดเสาไฟเสียหาย           ', 'บรรทุกหนัก                    ',\n",
       "       'ไฟฟ้าลัดวงจรบริเวณห้องเครื่อง ', 'ตร.เรียกรถจอดออกหนังสือคำสั่ง ',\n",
       "       'ไม่ทันมอง                     ', 'ขับรถชนป้าย ช่องทางEasypass   ',\n",
       "       'ก้มเก็บของ                    ', 'ประมาท ก้มหยิบของ             ',\n",
       "       'รอตรวจสอบ                     ', 'กะระยะเข้าช่องทางไม่ถูก       ',\n",
       "       'ขับรถในระยะกระชั้นชิด         ', 'โดนชนท้าย                     ',\n",
       "       'ถอยหลังรถไปชน                 ', 'ใช้ความเร็วเข้าโค้ง           ',\n",
       "       'เมาจอดนอนกีดขวาง              ', 'ถอยหลังลงจากต่างระดับ         ',\n",
       "       'ขับรถในระยะกระชันชิด          ', 'ยางล้อหลังขวาระเบิด           ',\n",
       "       'หลงทาง                        ', 'ขับขี่ย้อนเส้นทาง             ',\n",
       "       'ขับรถช้าลง                    ', 'พวงมาลัยล๊อค                  ',\n",
       "       'เฉี่ยวชนก้างปลา               ', 'คันที่3หยุดรถไม่ทัน           ',\n",
       "       'ไม่ได้ล็อคตู้                 ', 'ประมาท                        ',\n",
       "       'เปิดประตูรถ                   ', 'รถบรรทุกตัดหน้า               ',\n",
       "       'มีกลุ่มควันขึ้นมากหลังรถ      ', 'รถไหล                         ',\n",
       "       'หยุดรถไม่ทัน                  ', 'ก้มดูโทรศัพย์                 ',\n",
       "       'ขับเร็วเสียหลัก               ', 'ปีกนกซ้ายชำรุด                ',\n",
       "       'บรรทุกยื่นล้ำ                 ', 'มึนเมา                        ',\n",
       "       'หลับใน                        ', 'โรคประจำตัว                   ',\n",
       "       'เบรคกระทันหัน                 ', 'ขับรถเร็วเกินไป               ',\n",
       "       'สาเหตุจากสภาพรถ/ถนน           ', 'ฝ่าฝืนสัญญาณ/ป้ายจราจร        ',\n",
       "       'เปลี่ยนช่องทางกระทันหัน       ', 'ขับรถกระชั้นชิด', 'เบรคขัดข้อง',\n",
       "       'ล้อล็อค', 'บรรทุกเกิน/ของตกหล่น', 'เบลคกระทันหัน',\n",
       "       'ขึ้นเนินมองไม่เห็น', 'สภาพแวดล้อม', 'ยางหลังซ้ายแตก',\n",
       "       'ยางหลังแตก2ข้าง', 'เบรครถกระทันหัน', 'ล้อหลุด',\n",
       "       'อุปกรณ์ล้อยางชำรุด', 'เบรกไม่อยู่', 'ขับรถระยะกระชั้นชิด',\n",
       "       'ถนนเปียกลื่น', 'เข้าช่องทางผิด', 'ระบบไฟฟ้าขัดข้อง',\n",
       "       'น๊อตล้อหลังขวาขาด', 'ลงมาเก็บสิ่งของตกหล่นเลนขวา',\n",
       "       'กระบะบรรทุกสูง', 'ไม่ดึงเบรคมือทำให้รถไหลตกท่อ', 'ขับย้อนศร',\n",
       "       'บรรทุกกว้างยื่นล้ำ', 'ช่วงล่างชำรุด', 'หลงทาง', 'เบรกกะทันหัน',\n",
       "       'ขับนถกระชั้นชิด', 'ล้อหลังขวาหลุด', 'ถูกรถร่วมทางเบียด',\n",
       "       'บรรทุกสูงเกิน', 'กระบะจอดเสียเลนกลาง', 'ขับขี่ในระยะกระชั้นชิด',\n",
       "       'ไม่ทราบ', 'เล่นโทรศัพท์', 'ถอยหลังชิดด้านซ้ายมากเกินไป',\n",
       "       'ประมาทขาดความระวัง', 'ขับรถมองข้างทาง',\n",
       "       'เข้าผิดเลนถอยชนไฟส่องล้อเสียหา', 'นับเงินทอนค่าผ่านทาง',\n",
       "       'รถบรรทุกหนัก', 'มีควันขึ้นที่ห้องเครื่อง', 'ยางหลังขวาแตก',\n",
       "       'จยย.ย้อนศร', 'ใช้โทรศัพท์ขณะขับรถ', 'บรรทุกยื่นล้ำตัวรถ',\n",
       "       'บรรทุกสิ่งของยื้นล้ำ', 'ชนท้ายตามลำดับ', 'ถอยหลังชนไม้กั้น',\n",
       "       'พวงมาลัยล็อค', 'พ่วงหลุด', 'ก้มหยิบโทรศัพท์',\n",
       "       'ขับชิดซ้ายมากเกินไป', 'เบรคไม่อยู่รถบรรทุกหนัก',\n",
       "       'มีสิ่งของขัดเบรคทำให้เกิดว40', 'เหยียบเบรคกระทันหัน', 'พลัดหลง',\n",
       "       'กระจกแตก', 'ใช้ความเร็วเข้าโค้ง', 'ละสายตาจากการขับขี่',\n",
       "       'นั่งบุคคลMazdaเบรกกะทันหัน', 'ยางหน้าขวาแตก', 'สันนิษฐาน หลับใน',\n",
       "       'ถอยหลังชิดขอบทางขวามากเกินไป', 'ถอยหลังจอด', 'รถยนต์ขัดข้อง',\n",
       "       'ละสายตา', 'ยางแตกเสียหลักชนขอบทาง', 'รถบรรทุก6ล้อ เข้าผิดเวลา',\n",
       "       'คล้ายมีอาการมึนเมา', 'ขับขี่กระชั้นชิด', 'ขับรถเร็ว',\n",
       "       'ข้ับรถเร็ว', 'กระบะเบรคกะทันหัน', 'นั่งสาธารณะขับเลยทางลงถอยหลัง',\n",
       "       'เปลี่ยนช่องทางกะทันหัน', 'บรรทุกหนัก',\n",
       "       'เบรครถกระทันหันแล้วพลิ๊กคว่ำ', 'เปิดประตูชำระค่าผ่านทาง',\n",
       "       'ยางระเบิด', 'ขับรถถอยหลัง', 'ขับรถชิดซ้ายมากไป',\n",
       "       'ยางหลงขวาระเบิด', 'ควบคุมรถไม่ได้', 'เบรคกระทันหันเ',\n",
       "       'เบรกแล้วเสียหลักพลิกคว่ำ', 'เครื่องยนต์ขัดข้อง', 'เบรคไม่อยู่',\n",
       "       'เสียหลักหมุนชนขอบทาง', 'นั่งบุลคลอีซูซุก้มเก็บของ',\n",
       "       'รถนั่งฮอนด้าขับย้อนทางลงพัฒ2', 'ขับรถคล่อมเลน', 'เบรกกระชั้นชิด',\n",
       "       'ยางแตกล้อหลัง', 'ผู้ขับขี่นั่งบุคคลก้มดูโทรศัพท',\n",
       "       'นั่งบุคคลIsuzuเบรคไม่ทัน', 'บรรทุกรถ Atvเกิดไฟฟ้าลัดวงจร',\n",
       "       'ขับรถกระชิด', 'เบรกกะทันหันรถเสียการทรงตัว', 'เพลาข้างด้านขวาขาด',\n",
       "       'ก้มเก็บของในรถ', 'เลรคกะทันหัน', 'เข้าช่องเก็บค่าผ่านผิด',\n",
       "       'กระชั้นชิดเบรกไม่ทัน', 'กระบะToyotaทำสิ่งของตกหล่น',\n",
       "       'ขับรถกะชันชิด', 'ฝนตกถนนเปียกลื่น',\n",
       "       'นั่งบุคคลตัดหน้ารถบรรทุก10ล้อ', 'ไม่ดึงเบรคมือ', 'เบรคกระชั้นชิด',\n",
       "       'ขับรถกระชันชิด', 'เปลี่ยนช่องทางเบรกกะทันหัน', 'เบครกระทันหัน',\n",
       "       'สลักตัวยึดหลุด', 'ไม่ชะลอความเร็ว'], dtype=object)"
      ]
     },
     "execution_count": 37,
     "metadata": {},
     "output_type": "execute_result"
    }
   ],
   "source": [
    "# See the possible value of cause\n",
    "print(f\"Number of possible value : {len(df['cause'].unique())} \")\n",
    "df['cause'].unique()\n"
   ]
  },
  {
   "cell_type": "code",
   "execution_count": 38,
   "metadata": {},
   "outputs": [],
   "source": [
    "# Clean space between character\n",
    "df['cause'] = df['cause'].str.strip()"
   ]
  },
  {
   "cell_type": "code",
   "execution_count": 39,
   "metadata": {},
   "outputs": [],
   "source": [
    "# Create dictionary to group the data\n",
    "\n",
    "cause_cleaned = {'ขับรถเร็วเกินกำหนด':['เร็ว'],\n",
    "'ใช้โทรศัพท์ขณะขับรถ':['ก้มดู','เล่น'],\n",
    "'ก้มเก็บสิ่งของ':['ก้ม','เก็บสิ่งของ','หยิบของในรถ'],\n",
    "'สาเหตุจากสภาพรถ/ถนน':['ยาง','ขัดข้อง','ล้อหลุด','แตก','ชำรุด','หลุด','ไฟฟ้า','ขาด','เบรกติด','เบรคติด','เบรคไม่อยู่','เบรกไม่อยู่','พวงมาลัย','ขัด','ร้อน','เปียกลื่น'],\n",
    "'ขับรถโดยประมาท':['ประมาท','เหม่อลอย','ไม่ระมัดระวัง'],\n",
    "'ขับรถย้อนศร':['ย้อน'],\n",
    "'บรรทุกเกิน/ของตกหล่น':['บรรทุก','ตก'],\n",
    "'ขับรถกระชั้นชิด':['ชั้นชิด','ชันชิด','ขับรถกระชิด'],\n",
    "'เปลี่ยนช่องทางกะทันหัน':['เปลี่ยนช่องทางกระทันหัน'],\n",
    "'ขับชิดขอบทางมากเกินไป':['ขับชิด','ไหล่ทาง','ขับรถชิด'],\n",
    "'รถไหล':['ไหล'],\n",
    "'มึนเมา':['เมา'],\n",
    "'หลับใน':['หลับใน'],\n",
    "'ถอยหลังชนสิ่งกีดขวาง':['ถอย'],\n",
    "'เสียหลัก':['เสียหลัก','รถเสียการทรงตัว'],\n",
    "'หลงทาง':['หลง'],\n",
    "'เบรคกะทันหัน':['เบรคกระทันหัน','เบรกกระทันหัน','เบรครถกระทันหัน','เบครกระทันหัน','เบรคกระทันหหัน','เบรกกะทันหัน','เบลกกะทันหัน','เลรคกะทันหัน','เบลคกระทันหัน','เบรคกะทันหัน'],\n",
    "'เบรคไม่ทัน':['เบรคไม่ทัน','เบรกไม่ทัน','หยุดรถไม่ทัน'],\n",
    "'จอดรถขวางการจราจร':['จอด'],\n",
    "'ไม่ทราบสาเหตุ':['ไม่ทราบ','รอการตรวจสอบ','รอตรวจสอบ','\\.','\\-'],\n",
    "'ละสายตาจากการขับขี่':['สายตา','มอง','สังเกต'],\n",
    "'ขับรถเฉี่ยวชนสิ่งกีดขวาง/รถ':['เชียวชน','เชี่ยวชน','เฉี่ยวชน','เฉียวชน','ขับรถชน','ระยะ','กลับรถไม่พ้น'],\n",
    "'เปิดประตูชนสิ่งกีดขวาง':['เปิดประตู'],\n",
    "'โดนรถชนท้าย':['ชนท้าย'],\n",
    "'ขับรถผิดช่องทาง':['เข้า','วิ่งช่อง','วิ่งเลน']\n",
    "}\n",
    "\n",
    "\n",
    "# Clean data from dictionary\n",
    "for key in cause_cleaned:\n",
    "    for value in cause_cleaned[key]:\n",
    "        df.loc[df['cause'].str.contains(value), 'cause'] = key"
   ]
  },
  {
   "cell_type": "code",
   "execution_count": 40,
   "metadata": {},
   "outputs": [
    {
     "name": "stdout",
     "output_type": "stream",
     "text": [
      "Number of possible value : 45 \n"
     ]
    },
    {
     "data": {
      "text/plain": [
       "array(['เบรคกะทันหัน', 'ขับรถผิดช่องทาง', 'ก้มเก็บสิ่งของ',\n",
       "       'ขับชิดขอบทางมากเกินไป', 'ถอยหลังชนสิ่งกีดขวาง',\n",
       "       'ละสายตาจากการขับขี่', 'ขับรถช้าลง', 'ขับรถเฉี่ยวชนสิ่งกีดขวาง/รถ',\n",
       "       'บรรทุกเกิน/ของตกหล่น', 'ไม่ทราบสาเหตุ', 'สาเหตุจากสภาพรถ/ถนน',\n",
       "       'จอดรถขวางการจราจร', 'เสียหลัก', 'ขับรถย้อนศร', 'โดนรถชนท้าย',\n",
       "       'มึนเมา', 'ผู้ขับขี่หมดสติ', 'รถมีขนาดใหญ่เกินไป', 'เบรคไม่ทัน',\n",
       "       'เพลิงไหม้', 'ขับรถโดยประมาท', 'ขับรถเร็วเกินกำหนด',\n",
       "       'ไม่มีอีซี่พาส', 'หลับใน', 'โรคประจำตัว', 'ฝ่าฝืนสัญญาณ/ป้ายจราจร',\n",
       "       'เปลี่ยนช่องทางกะทันหัน', 'ขับรถกระชั้นชิด', 'ขับปาดกันไปมา',\n",
       "       'แก๊สกระป๋องเล็กรั่ว', 'เปิดประตูชนสิ่งกีดขวาง',\n",
       "       'เครนฟาดเสาไฟเสียหาย', 'หลงทาง', 'ไม่ได้ล็อคตู้',\n",
       "       'มีกลุ่มควันขึ้นมากหลังรถ', 'รถไหล', 'ใช้โทรศัพท์ขณะขับรถ',\n",
       "       'ล้อล็อค', 'สภาพแวดล้อม', 'ถูกรถร่วมทางเบียด',\n",
       "       'นับเงินทอนค่าผ่านทาง', 'มีควันขึ้นที่ห้องเครื่อง',\n",
       "       'ควบคุมรถไม่ได้', 'ขับรถคล่อมเลน', 'ไม่ดึงเบรคมือ'], dtype=object)"
      ]
     },
     "execution_count": 40,
     "metadata": {},
     "output_type": "execute_result"
    }
   ],
   "source": [
    "# See the possible value of cause\n",
    "print(f\"Number of possible value : {len(df['cause'].unique())} \")\n",
    "df['cause'].unique()\n"
   ]
  },
  {
   "attachments": {},
   "cell_type": "markdown",
   "metadata": {},
   "source": [
    "---\n",
    "# EDA - Exploratory Data Analysis"
   ]
  },
  {
   "cell_type": "code",
   "execution_count": 41,
   "metadata": {},
   "outputs": [
    {
     "data": {
      "image/png": "[encoded data removed]",
      "text/plain": [
       "<Figure size 640x480 with 1 Axes>"
      ]
     },
     "metadata": {},
     "output_type": "display_data"
    }
   ],
   "source": [
    "# Read dataframe and plot graph\n",
    "accident_each_year = df[~df['accident_timestamp'].dt.year.isin([2017, 2022])]\n",
    "accident_each_year['accident_timestamp'].dt.year.value_counts().plot(kind='bar', title='Number of accident occurred in 4 Years');\n"
   ]
  },
  {
   "attachments": {},
   "cell_type": "markdown",
   "metadata": {},
   "source": [
    "จากกราฟ จะพบว่า <u>**แนวโน้ม**</u>อุบัติเหตุที่เกิดขึ้นในแต่ละปีนั้น \n",
    "- มีจำนวนการเกิดอุบัติเหตุที่ลดลงอย่างต่อเนื่อง ตั้งแต่ปี **2018 - 2021**\n",
    "- ทำให้สามารถอนุมานได้ว่า ในปี 2022 จะมีแนวโน้มการเกิดอุบัติเหตุบนทางด่วนลดลง ซึ่งเป็นไปในทิศทางที่ดีขึ้น\n",
    "\n",
    "---"
   ]
  },
  {
   "cell_type": "code",
   "execution_count": 42,
   "metadata": {},
   "outputs": [
    {
     "data": {
      "image/png": "[encoded data removed]",
      "text/plain": [
       "<Figure size 1200x400 with 2 Axes>"
      ]
     },
     "metadata": {},
     "output_type": "display_data"
    }
   ],
   "source": [
    "# Prepare data\n",
    "accident_occurred = df.groupby([df['accident_timestamp'].dt.year])[\n",
    "    ['injury_male', 'injury_female', 'dead_male', 'dead_female']].sum()\n",
    "accident_occurred.reset_index(inplace=True)\n",
    "\n",
    "# Plot graph\n",
    "fig, (ax1, ax2) = plt.subplots(1, 2, figsize=(12, 4), sharey=True)\n",
    "\n",
    "accident_occurred.plot(kind='barh', x='accident_timestamp',  y=[\n",
    "                        'injury_male', 'injury_female'], ylabel='', ax=ax1, title='Number of injury', color=['#237FEC', '#FF5FF5'])\n",
    "accident_occurred.plot(kind='barh', x='accident_timestamp',  y=[\n",
    "                        'dead_male', 'dead_female'], ylabel='', ax=ax2, title='Number of death', color=['#237FEC', '#FF5FF5'])\n",
    "\n",
    "plt.show()\n"
   ]
  },
  {
   "attachments": {},
   "cell_type": "markdown",
   "metadata": {},
   "source": [
    "จากกราฟ แสดงจำนวณผู้ได้รับ<u>**บาดเจ็บและเสียชีวิต**</u>จากอุบัติเหตบนทางด่วน\n",
    "- จำนวนอุบัติเหตที่เกิดขึ้นนั้น จะสังเกตได้ว่า จำนวนผู้ได้รับบาดเจ็บและการเสียชีวิตจากการเกิดอุบัติเหตุนั้น เป็นผู้ชาย**มากกว่า**ผู้หญิงในทุกปี\n",
    "---"
   ]
  },
  {
   "attachments": {},
   "cell_type": "markdown",
   "metadata": {},
   "source": [
    "# Accident in Weekday\n",
    "การเกิดอุบัติเหตุโดยแบ่งจากวันในสัปดาห์"
   ]
  },
  {
   "cell_type": "code",
   "execution_count": 43,
   "metadata": {},
   "outputs": [
    {
     "data": {
      "image/png": "[encoded data removed]",
      "text/plain": [
       "<Figure size 640x480 with 1 Axes>"
      ]
     },
     "metadata": {},
     "output_type": "display_data"
    }
   ],
   "source": [
    "# Category of weekday\n",
    "cats = ['Monday', 'Tuesday', 'Wednesday',\n",
    "        'Thursday', 'Friday', 'Saturday', 'Sunday']\n",
    "\n",
    "# Prepare dataframe to calculate\n",
    "accident_numbers = df.groupby([df['accident_timestamp'].dt.day_name()])[['accident_timestamp']].count().reindex(cats)\n",
    "accident_numbers.plot(kind='bar', title='acc in weekdays (numbers)');"
   ]
  },
  {
   "attachments": {},
   "cell_type": "markdown",
   "metadata": {},
   "source": [
    "จากกราฟ จำนวนการเกิดอุบัติเหตุเมื่อแยกเป็นรายสัปดาห์\n",
    "- จะพบว่าอุบัติเหตที่เกิดขึ้นนั้น เกิดในทุกวันในสัดส่วนที่ใกล้เคียงกัน\n",
    "- ในวัน**อาทิตย์**เป็น วันที่ผู้คนส่วนใหญ่ใช้เวลาอยู่บ้าน จึงทำให้เกิดอุบัติเหตุน้อยกว่าวันอื่น\n",
    "---------------------"
   ]
  },
  {
   "cell_type": "code",
   "execution_count": 44,
   "metadata": {},
   "outputs": [
    {
     "data": {
      "application/vnd.jupyter.widget-view+json": {
       "model_id": "f111f6765e8e42bc8ff1ee52534c1307",
       "version_major": 2,
       "version_minor": 0
      },
      "text/plain": [
       "interactive(children=(Dropdown(description='indicator', options=('เบรคกะทันหัน', 'ขับรถผิดช่องทาง', 'ก้มเก็บสิ…"
      ]
     },
     "metadata": {},
     "output_type": "display_data"
    }
   ],
   "source": [
    "# Prepare Data \n",
    "accident_numbers = df.copy()\n",
    "cats = ['Monday', 'Tuesday', 'Wednesday','Thursday', 'Friday', 'Saturday', 'Sunday']\n",
    "accident_numbers['weekday'] = df['accident_timestamp'].dt.day_name()\n",
    "\n",
    "\n",
    "# Create Interactive\n",
    "@interact(indicator=list(df['cause'].unique()))\n",
    "def plot_chart(indicator):\n",
    "    plt.figure(figsize=(16, 4))\n",
    "\n",
    "    new_df = accident_numbers[accident_numbers['cause'] == indicator]['weekday'].value_counts().reindex(cats)\n",
    "    new_df = pd.DataFrame(new_df)\n",
    "    new_df.columns = ['count']\n",
    "    sns.barplot(x=cats, y='count', data=new_df,width= 0.6 ,palette=['red' if i >= float(new_df.mean()) else 'gray' for i in new_df.values]).set(title = 'Number of accident in weekday')\n",
    "\n",
    "    plt.grid()"
   ]
  },
  {
   "attachments": {},
   "cell_type": "markdown",
   "metadata": {},
   "source": [
    "จากกราฟ\n",
    "- เป็นกราฟแท่ง แสดงจำนวนอุบัติเหตุในแต่ละวันในสัปดาห์\n",
    "- เพิ่ม indicator ให้ผู้ใช้ดุเป็นรายอุบัติเหตุไป\n",
    "- สีแดง หมายถึง สูงกว่าค่าเฉลี่ย \n",
    "- สีเทา หมายถึง ต่ำกว่าค่าเฉลี่ย\n",
    "---------"
   ]
  },
  {
   "cell_type": "code",
   "execution_count": 45,
   "metadata": {},
   "outputs": [
    {
     "data": {
      "application/vnd.jupyter.widget-view+json": {
       "model_id": "059c48cde42446358fa9ba4de66a61e3",
       "version_major": 2,
       "version_minor": 0
      },
      "text/plain": [
       "interactive(children=(Dropdown(description='indicator', options=('เบรคกะทันหัน', 'ขับรถผิดช่องทาง', 'ก้มเก็บสิ…"
      ]
     },
     "metadata": {},
     "output_type": "display_data"
    }
   ],
   "source": [
    "time = ['กลางคืน', 'เช้า', 'สาย', 'บ่าย', 'เย็น', 'ค่ำ']\n",
    "accident_hour = df.copy()\n",
    "accident_hour['hour'] = accident_hour['accident_timestamp'].dt.hour\n",
    "\n",
    "# Create Interactive\n",
    "@interact(indicator=list(df['cause'].unique()))\n",
    "def plot_chart(indicator):\n",
    "    plt.figure(figsize=(16, 4))\n",
    "\n",
    "    new_df = accident_hour[accident_hour['cause'] == indicator]['hour'].value_counts()\n",
    "    new_df = pd.DataFrame(new_df)\n",
    "    new_df.columns = ['count']\n",
    "\n",
    "    time_range = new_df.groupby(pd.cut(new_df.index, np.arange(0, 25, 4))).sum()\n",
    "    time_range.index = time\n",
    "\n",
    "    sns.barplot(x=time, y='count', data=time_range,width= 0.6, palette=['red' if i > float(time_range['count'].mean()) else 'gray' for i in time_range['count']]).set(title = 'Number of accident in time range')\n",
    "\n",
    "    plt.grid()"
   ]
  },
  {
   "attachments": {},
   "cell_type": "markdown",
   "metadata": {},
   "source": [
    "-----------------------------\n",
    "# Express way"
   ]
  },
  {
   "cell_type": "code",
   "execution_count": 46,
   "metadata": {},
   "outputs": [],
   "source": [
    "# Create dataframe to present 'number of accident occured'\n",
    "df_mtw = df.groupby([df['express_way']])[['accident_timestamp']].count()\n",
    "df_mtw.reset_index(inplace=True)\n",
    "df_mtw.set_index('express_way', inplace=True)\n",
    "df_mtw.sort_values(['accident_timestamp'], ascending=False, inplace=True)"
   ]
  },
  {
   "cell_type": "code",
   "execution_count": 47,
   "metadata": {},
   "outputs": [
    {
     "data": {
      "image/png": "[encoded data removed]",
      "text/plain": [
       "<Figure size 1600x600 with 1 Axes>"
      ]
     },
     "metadata": {},
     "output_type": "display_data"
    }
   ],
   "source": [
    "# Calculate average -> data type float\n",
    "df_mtw.columns = ['count']\n",
    "average = float(df_mtw['count'].mean())\n",
    "\n",
    "# Set grah size (width,height)\n",
    "plt.figure(figsize=(16,6))\n",
    "\n",
    "# Create graph -> barplot & line plot\n",
    "sns.barplot(x=df_mtw.index, y='count', data=df_mtw, palette=['red' if i > average else 'gray' for i in df_mtw['count']] ,width= 0.6)\n",
    "sns.lineplot(x=df_mtw.index, y=average, data=df_mtw, color='black')\n",
    "\n",
    "# Set label & title\n",
    "plt.title('Number of accident occured in Express way')\n",
    "plt.xlabel('')\n",
    "plt.ylabel('')\n",
    "\n",
    "# Show graph\n",
    "plt.show()\n",
    "\n"
   ]
  },
  {
   "cell_type": "code",
   "execution_count": 48,
   "metadata": {},
   "outputs": [
    {
     "data": {
      "image/png": "[encoded data removed]",
      "text/plain": [
       "<Figure size 640x480 with 1 Axes>"
      ]
     },
     "metadata": {},
     "output_type": "display_data"
    }
   ],
   "source": [
    "kilometers = [38.4, 22.5, 55.0, 27.1, 28.2, 47.5, 32.0, 16.7, 4.7]\n",
    "\n",
    "df_mtw['km'] = kilometers\n",
    "df_mtw\n",
    "\n",
    "sns.scatterplot(data=df_mtw, x='km', y='count').set(title = 'Correlation between kilometer and number of accident', xlabel = 'kilometers', ylabel = 'numbers of accident');"
   ]
  },
  {
   "cell_type": "code",
   "execution_count": 49,
   "metadata": {},
   "outputs": [
    {
     "data": {
      "text/html": [
       "<div>\n",
       "<style scoped>\n",
       "    .dataframe tbody tr th:only-of-type {\n",
       "        vertical-align: middle;\n",
       "    }\n",
       "\n",
       "    .dataframe tbody tr th {\n",
       "        vertical-align: top;\n",
       "    }\n",
       "\n",
       "    .dataframe thead th {\n",
       "        text-align: right;\n",
       "    }\n",
       "</style>\n",
       "<table border=\"1\" class=\"dataframe\">\n",
       "  <thead>\n",
       "    <tr style=\"text-align: right;\">\n",
       "      <th></th>\n",
       "      <th>count</th>\n",
       "      <th>km</th>\n",
       "    </tr>\n",
       "  </thead>\n",
       "  <tbody>\n",
       "    <tr>\n",
       "      <th>count</th>\n",
       "      <td>1.000000</td>\n",
       "      <td>0.421589</td>\n",
       "    </tr>\n",
       "    <tr>\n",
       "      <th>km</th>\n",
       "      <td>0.421589</td>\n",
       "      <td>1.000000</td>\n",
       "    </tr>\n",
       "  </tbody>\n",
       "</table>\n",
       "</div>"
      ],
      "text/plain": [
       "          count        km\n",
       "count  1.000000  0.421589\n",
       "km     0.421589  1.000000"
      ]
     },
     "execution_count": 49,
     "metadata": {},
     "output_type": "execute_result"
    }
   ],
   "source": [
    "df_mtw.corr()"
   ]
  },
  {
   "attachments": {},
   "cell_type": "markdown",
   "metadata": {},
   "source": [
    "จาก scatter plot และ ตาราง correlation\n",
    "- จะพบว่า ระยะทางของถนนนั้น ไม่มีผลต่อการเกิดอุบัติเหตุเลย\n",
    "- จำนวนครั้งที่เกิดอุบัติเหตุบนทางด่วน ไม่มีความสัมพันธ์ กับ ระยะทางของทางด่วน\n",
    "-----------"
   ]
  },
  {
   "cell_type": "code",
   "execution_count": 50,
   "metadata": {},
   "outputs": [
    {
     "data": {
      "application/vnd.jupyter.widget-view+json": {
       "model_id": "944183bd42e943368e08b1ddf7320892",
       "version_major": 2,
       "version_minor": 0
      },
      "text/plain": [
       "interactive(children=(IntRangeSlider(value=(0, 45), description='# Top:', max=45, readout_format=',', step=5),…"
      ]
     },
     "metadata": {},
     "output_type": "display_data"
    }
   ],
   "source": [
    "# Create Widget\n",
    "top = widgets.IntRangeSlider(\n",
    "    value=[0, len(df['cause'].unique())],\n",
    "    min=0,\n",
    "    max=len(df['cause'].unique()),\n",
    "    step=5,\n",
    "    description=\"# Top:\",\n",
    "    orientation=\"horizontal\",\n",
    "    readout=True,\n",
    "    readout_format=\",\",\n",
    ")\n",
    "\n",
    "color_list = ['red' if i > (len(df['cause'].unique())-5) else 'grey' for i in range(len(df['cause'].unique()))]\n",
    "\n",
    "@interact\n",
    "def plot_chart(total_cases=top):\n",
    "\n",
    "    # Prepare DataFrame\n",
    "    a = pd.DataFrame(df['cause'].value_counts())\n",
    "    a.reset_index()\n",
    "    \n",
    "    \n",
    "    # plot graph\n",
    "    a['cause'][total_cases[0]:total_cases[1]].sort_values(ascending=True).plot(kind='barh', title='Cause of accident', figsize=(10, 8)\n",
    "        , color= color_list )\n",
    "\n",
    "    # Show Grid\n",
    "    plt.grid()  \n"
   ]
  },
  {
   "cell_type": "code",
   "execution_count": 51,
   "metadata": {},
   "outputs": [
    {
     "data": {
      "application/vnd.jupyter.widget-view+json": {
       "model_id": "22fe76c44da94f6492163571e2bad31e",
       "version_major": 2,
       "version_minor": 0
      },
      "text/plain": [
       "interactive(children=(Dropdown(description='cause', options=('เบรคกะทันหัน', 'ขับรถผิดช่องทาง', 'ก้มเก็บสิ่งขอ…"
      ]
     },
     "metadata": {},
     "output_type": "display_data"
    }
   ],
   "source": [
    "indicator_list = list(df['cause'].unique())\n",
    "motorway = df_mtw.index\n",
    "sorting = ['default', 'ascending' , 'descending']\n",
    "\n",
    "@interact(cause=indicator_list, sorted_by = sorting)\n",
    "def plot_chart(cause,sorted_by):\n",
    "\n",
    "    # interactive seaborn \n",
    "    plt.figure(figsize=(16, 4))\n",
    "    new_df = df[df['cause'] == cause]['express_way'].value_counts().reindex(motorway)\n",
    "    new_df = pd.DataFrame(new_df)\n",
    "    new_df.columns = ['count']\n",
    "    average = float(new_df['count'].mean())\n",
    "    new_df = new_df.fillna(0)\n",
    "\n",
    "    if sorted_by == 'default':\n",
    "        new_df.reindex(motorway)\n",
    "    elif sorted_by == 'ascending':\n",
    "        new_df.sort_values(by='count',ascending=True,inplace=True)\n",
    "    elif sorted_by == 'descending':\n",
    "        new_df.sort_values(by='count',ascending=False,inplace=True)\n",
    "\n",
    "\n",
    "    sns.barplot(x=new_df.index, y='count', data=new_df,width= 0.6, palette=['red' if i > average else 'gray' for i in new_df['count']]).set(title = 'Number of accident in each motorway')\n",
    "\n",
    "    # show grid line\n",
    "    # plt.grid()  \n"
   ]
  },
  {
   "cell_type": "code",
   "execution_count": 52,
   "metadata": {},
   "outputs": [
    {
     "data": {
      "image/png": "[encoded data removed]",
      "text/plain": [
       "<Figure size 1000x1000 with 4 Axes>"
      ]
     },
     "metadata": {},
     "output_type": "display_data"
    }
   ],
   "source": [
    "motorway = df_mtw.index\n",
    "\n",
    "x = 2\n",
    "y = 2\n",
    "\n",
    "graph_title = [('ขับรถเร็วเกินกำหนด', 'speed over limit'), ('เปลี่ยนช่องทางกะทันหัน', 'Improper lane change'),\n",
    "                ('สาเหตุจากสภาพรถ/ถนน', 'vehical/road malfunctions'), ('หลับใน', 'sleep without closing eyes')]\n",
    "\n",
    "fig, axs = plt.subplots(x, y, figsize=(10, 10), sharex=True, sharey=True,)\n",
    "\n",
    "num = 0\n",
    "for i in range(x):\n",
    "    for j in range(y):\n",
    "        subplot = df[df['cause'] == graph_title[num][0]\n",
    "                    ]['express_way'].value_counts().reindex(motorway)\n",
    "        subplot.plot(kind='bar', title=graph_title[num][1], ax=axs[i, j]\n",
    "        \n",
    "        , color = ['red' if i > subplot.mean() else 'gray' for i in subplot.values])\n",
    "        num += 1\n",
    "\n",
    "fig.tight_layout()\n",
    "plt.show()\n",
    "\n"
   ]
  },
  {
   "attachments": {},
   "cell_type": "markdown",
   "metadata": {},
   "source": [
    "จากกราฟ \n",
    "- เส้นทางด่วน**ศรีรัช** เป็นทางด่วนที่มีการเกิดอุบัติเหตุ**มากที่สุด** แต่สาเหตุหลักของการเกิดอุบัติเหตุบนเส้นทางนี้ เกิดจากการ**ขับรถเปลี่ยนเลนกระทันหัน**เป็นหลัก\n",
    "- เส้นทางด่วน**บางพลี-สุขสวัสดิ์ และ เส้นทางด่วนบูรพาวิธี** เป็นเส้นทางที่มีการเกิดอุบัติเหตุเนื่องจาก**การขับรถเร็วเกินกำหนด**เป็นจำนวนมาก\n",
    "- จะเห็นได้ว่าทางด่วน**ศรีรัช**ที่มีการเกิดอุบัติเหตุ**มากที่สุด** แต่กลับมีการเกิดอุบัติเหตุจากสาเหตุหลักคือ**การขับรถเร็วเกินกำหนด**ที่น้อยกว่าทางด่วนอื่นเป็นจำนวนมาก จึงควรให้เป็นกรณีศึกษาสำหรับทางด่วนอื่น"
   ]
  },
  {
   "attachments": {},
   "cell_type": "markdown",
   "metadata": {},
   "source": [
    "-------------------\n",
    "# Suggestion"
   ]
  },
  {
   "attachments": {},
   "cell_type": "markdown",
   "metadata": {},
   "source": [
    "เนื่องจากสาเหตุหลักๆของการเกิดอุบัติเหตบนทางหลวงเกิดจาก **การขับรถเร็วเกินกำหนด** / **เกิดจากตัวผู้ขับขี่เอง** \n",
    "\n",
    "ดังนั้น เพื่อลดการเกิดอุบัติเหตุที่อาจเกิดขึ้นในอนาคต จำเป็นที่จะต้องให้ผู้ขับขี่ มีความตระหนักถึงความปลอดภัยในการใช้รถและถนน ร่วมกับผู้อื่นมากยิ่งขึ้น\n",
    "\n",
    "ตัวอย่างเช่น \n",
    "\n",
    "- ระบบการตัดคะแนนความประพฤติในการขับรถเพื่อให้ผู้ขับขี่มีความตระหนักถึงการเคารพกฎจราจรมากยิ่งขึ้น\n",
    "- การติดตั้งป้ายกำหนดความเร็วบนทางด่วน"
   ]
  },
  {
   "attachments": {},
   "cell_type": "markdown",
   "metadata": {},
   "source": [
    "<img src= 'https://github.com/Pooote/Business_Intelligent/blob/main/policy.jpg?raw=true'> "
   ]
  }
 ],
 "metadata": {
  "kernelspec": {
   "display_name": "base",
   "language": "python",
   "name": "python3"
  },
  "language_info": {
   "codemirror_mode": {
    "name": "ipython",
    "version": 3
   },
   "file_extension": ".py",
   "mimetype": "text/x-python",
   "name": "python",
   "nbconvert_exporter": "python",
   "pygments_lexer": "ipython3",
   "version": "3.9.16"
  },
  "orig_nbformat": 4,
  "vscode": {
   "interpreter": {
    "hash": "fedc3f56c56c7a0bd22d9790ede6240a5ff04828cd6de4187b314c8c8833d35c"
   }
  }
 },
 "nbformat": 4,
 "nbformat_minor": 2
}
